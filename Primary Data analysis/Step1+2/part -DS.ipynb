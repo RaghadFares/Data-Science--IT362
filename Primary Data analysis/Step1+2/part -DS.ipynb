{
  "metadata": {
    "kernelspec": {
      "name": "python",
      "display_name": "Python (Pyodide)",
      "language": "python"
    },
    "language_info": {
      "codemirror_mode": {
        "name": "python",
        "version": 3
      },
      "file_extension": ".py",
      "mimetype": "text/x-python",
      "name": "python",
      "nbconvert_exporter": "python",
      "pygments_lexer": "ipython3",
      "version": "3.8"
    }
  },
  "nbformat_minor": 4,
  "nbformat": 4,
  "cells": [
    {
      "cell_type": "markdown",
      "source": "### Challenges and how we over come them\n\nWhile conducting the survey to gather data on the impact of social media on mental health, several challenges emerged throughout the process. These challenges ranged from technical issues related to data quality assurance to difficulties faced by users while completing the survey. Each of these hurdles required careful consideration and strategic solutions to ensure the validity and reliability of the collected data. Addressing these challenges was crucial for maintaining the integrity of the research and achieving meaningful results.\n\nIn this section, I will review the main challenges encountered during the data collection process, starting with the issue of unanswered columns in the survey. One significant challenge was the presence of unanswered questions, as many respondents skipped certain items, leading to incomplete data. This posed a problem because such gaps could compromise the overall accuracy and reliability of the findings. To address this, we identified and removed the rows containing #VALUE during the cleaning phase, ensuring that the integrity of the remaining dataset was preserved.\n\nLiteral Translation Issues:\nAnother challenge encountered during the project was the literal translation of the document from Arabic into English, as mentioned in the pre-processing phase. This issue arose when translating specific phrases and terms that did not convey the intended meaning in English. Verbatim translations often led to confusion and misinterpretation of key concepts. To tackle this challenge, we identified and replaced inconsistent or incorrect values in our dataset, ensuring that the original context and clarity were preserved. Additionally, thorough reviews of the translated content we conducted to identify and correct any phrases that could lead to misunderstandings, thereby enhancing the overall quality of the document.",
      "metadata": {}
    },
    {
      "cell_type": "code",
      "source": "",
      "metadata": {
        "trusted": true
      },
      "outputs": [],
      "execution_count": null
    }
  ]
}