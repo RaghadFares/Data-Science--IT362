{
  "cells": [
    {
      "cell_type": "markdown",
      "metadata": {},
      "source": [
        "## - Introduction & Explanation"
      ]
    },
    {
      "cell_type": "markdown",
      "metadata": {},
      "source": [
        "The survey serves as a primary data source designed to investigate the impact of social media on mental health .The survey contains valuable information on various aspects of social media usage, including demographics such as age, gender, location, educational level, marital and employment status. It also includes detailed questions regarding the platforms respondents use, the time spent on social media, and the emotional and mental effects of their usage. The survey explores key areas such as anxiety, focus, and productivity, and investigates coping mechanisms like app restrictions and limiting device usage, and it aims to capture real-world experiences and perceptions related to social media usage .\n",
        "\n",
        "The survey questions were selected with the assistance of specialists to ensure that the collected data would accurately and clearly serve the research goals and it was published in Arabic and later translated into English, to obtain the largest number of responses ."
      ]
    },
    {
      "cell_type": "markdown",
      "metadata": {},
      "source": [
        "## - Motivation and Goals"
      ]
    },
    {
      "cell_type": "markdown",
      "metadata": {},
      "source": [
        "The motivation behind choosing a survey stems from its effectiveness in gathering diverse and personal insights from individuals across various demographics. \n",
        "\n",
        "The goals include:\n",
        "\n",
        "* Understanding social media usage: To explore how long people  spend on social media daily, and which apps are most popular.\n",
        "* Analyzing mental and emotional effects: To examine how social media impacts focus, stress, anxiety, and interactions with others.\n",
        "* Increasing data richness: One of the reasons for selecting a survey is to gather more data, enrich knowledge, and learn how to manage and process survey data effectively.\n",
        "* Comparative analysis: The research aims to compare the survey data collected from different regions of  Saudi Arabia with secondary data ( Kaggle dataset) to understand the differences in social media's impact on mental health between Saudi Arabia and another foreign country.\n",
        "* Reliable, realistic insights: By using both primary and secondary data, the study strives for accurate, reliable, and realistic results."
      ]
    },
    {
      "cell_type": "markdown",
      "metadata": {},
      "source": [
        "| Column Name        | Description                                                             | Data Type     | Possible Values                      |\n",
        "|:-------------------|:------------------------------------------------------------------------|:-------------:|:-------------------------------------:|\n",
        "| `the age`             | The age of the respondent (in  a range of a years).                     | Integer range       |  (e.g.,13-17, 18-24) |\n",
        "| `Gender`             | The gender of the respondent.                                   | Categorical      |  (e.g., Male, Female)   |\n",
        "| `Area`          | The geographic area or city where the respondent resides                 | Categorical   | (e.g., Riyadh, Jeddah). |\n",
        "| `Current educational level`     | The respondent's current level of education.      | Categorical      | (e.g., High school or equivalent, Bachelor's degree).             |\n",
        "| `marital status`    | The respondent's marital status .    | Categorical  |              |\n",
        "| `Employment status`        | The employment status of the respondent           | Categorical       | (e.g., Student, Full time employee, Not employed).         |\n",
        "| `Do you use social media applications?`          | Whether the respondent uses social media applications . | Binary (Yes, No)     | (Yes/No)             |\n",
        "| `What social media platforms do you use?`         | The social media platforms the respondent uses .| Categorical/List      | (e.g., Instagram, Twitter)             |\n",
        "| `What app do you use the most?`         | The social media application the respondent uses the most .           | Categorical      | (e.g., TikTok, Instagram).             |\n",
        "| `How many hours do you spend on social media platforms daily?`           | he number of hours the respondent spends on social media each day .             | Categorical       | (e.g., Less than 1 hour, 12 hours or more)             |\n",
        "| `Do you feel anxious or stressed after reading negative comments on your posts?`         | The respondent's frequency of feeling anxious or stressed after reading negative comments .           | Categorical      | (e.g., Rarely, sometimes)            |\n",
        "| `Are you worried about missing out on important information or events when you're not using social media?`          | Whether the respondent feels concerned about missing out on important updates from social media.           | Categorical      | (e.g., Rarely, sometimes)             |\n",
        "| `Do you feel that using social media has affected your ability to focus and accomplish daily tasks?`         | Whether the respondent feels that social media has affected their ability to focus and accomplish daily tasks .           | Categorical       |       (e.g., Yes, a lot)       |\n",
        "| `Do you think that consuming quick content has affected your patience and ability to deal with long tasks?`             | The respondent's opinion on whether quick content (e.g., stories, reels) affects their attention span.                                   | Categorical       | (e.g., Yes, a lot)  |\n",
        "| `Do you use social media right before going to sleep?`             | Whether the respondent uses social media right before going to bed .                                   | Categorical       | (e.g., Yes, always)  |\n",
        "| `Do you have difficulty sleeping because of thinking about what you saw on social media platforms?`             | Whether the respondent experiences sleep difficulties due to social media use.                                   | Categorical       | (e.g., Yes, always)    |\n",
        "| `Does the number of likes or comments you get on your posts affect you?`             | Whether the number of likes or comments the respondent receives impacts their self-worth.                                   | Categorical      | (e.g., Rarely, sometimes)   |\n",
        "| `Have you changed your opinion or feeling based on the reactions of others on social media platforms?`      | does the respondent has changed their opinion based the reactions of others on social media platforms media                                  | Categorical      | (e.g., Rarely, sometimes)   |\n",
        "| `Do you prefer interacting with friends or family online rather than face-to-face?`             | Whether the respondent prefers interacting with people online over in-person interactions.                | Categorical      | (e.g., Rarely, sometimes)  |\n",
        "| `How often do you find yourself using social media for longer than you planned?`             | How frequently the respondent uses social media for longer than you planned                 |Categorical      | (e.g., Rarely, sometimes)   |\n",
        "| `How do you feel when you compare your life to the lives of others on social media?`             | The respondent's feelings when comparing their life to others on social media             | Text       |  (e.g., Feeling natural,Inspiration,Envy)   |\n",
        "| `What methods, if any, do you use to limit your social media access?`             | The methods the respondent uses to control or limit their social media use .         | Text        | (e.g., Time limits, None)  |"
      ]
    },
    {
      "cell_type": "markdown",
      "metadata": {},
      "source": [
        "# Cleaning data"
      ]
    },
    {
      "cell_type": "markdown",
      "metadata": {},
      "source": [
        "### 1-Dataset Sample:"
      ]
    },
    {
      "cell_type": "code",
      "execution_count": 2,
      "metadata": {
        "trusted": true
      },
      "outputs": [
        {
          "name": "stderr",
          "output_type": "stream",
          "text": [
            "<ipython-input-2-41cf6550b416>:1: DeprecationWarning: \n",
            "Pyarrow will become a required dependency of pandas in the next major release of pandas (pandas 3.0),\n",
            "(to allow more performant data types, such as the Arrow string type, and better interoperability with other libraries)\n",
            "but was not found to be installed on your system.\n",
            "If this would cause problems for you,\n",
            "please provide us feedback at https://github.com/pandas-dev/pandas/issues/54466\n",
            "        \n",
            "  import pandas as pd\n"
          ]
        },
        {
          "name": "stdout",
          "output_type": "stream",
          "text": [
            "Sample Data:\n",
            "  the age:   Gender:   Area: Current educational level: marital status:  \\\n",
            "0    13-17  feminine  Riyadh  High school or equivalent        bachelor   \n",
            "1    18-24      male  Riyadh          Bachelor's degree        bachelor   \n",
            "2    18-24  feminine  Riyadh          Bachelor's degree        bachelor   \n",
            "3    18-24  feminine  Riyadh  High school or equivalent        bachelor   \n",
            "4    35-44  feminine  Riyadh          Bachelor's degree         married   \n",
            "\n",
            "      Employment status: Do you use social media applications?  \\\n",
            "0                student                                   Yes   \n",
            "1           Not employed                                   Yes   \n",
            "2                student                                   Yes   \n",
            "3                student                                   Yes   \n",
            "4  Housewife, unemployed                                   Yes   \n",
            "\n",
            "             What social media platforms do you use?  \\\n",
            "0  Instagram, X (Twitter), TikTok, Snapchat, Yout...   \n",
            "1  Instagram, X (Twitter), LinkedIn, TikTok, Snap...   \n",
            "2  Instagram, X (Twitter), LinkedIn, Snapchat, Yo...   \n",
            "3  X (Twitter), TikTok, Snapchat, Youtube, WhatsA...   \n",
            "4  Instagram, X (Twitter), Snapchat, WhatsApp, Lo...   \n",
            "\n",
            "  What app do you use the most?  \\\n",
            "0                        TikTok   \n",
            "1                   X (Twitter)   \n",
            "2                      WhatsApp   \n",
            "3                      WhatsApp   \n",
            "4                      Snapchat   \n",
            "\n",
            "  How many hours do you spend on social media platforms daily?  ...  \\\n",
            "0                                   12 hours or more            ...   \n",
            "1                                             03-Apr            ...   \n",
            "2                                             09-Oct            ...   \n",
            "3                                             05-Jun            ...   \n",
            "4                                             05-Jun            ...   \n",
            "\n",
            "  Do you feel that using social media has affected your ability to focus and accomplish daily tasks?  \\\n",
            "0                                         Yes, a lot                                                   \n",
            "1                                          sometimes                                                   \n",
            "2                                         Yes, a lot                                                   \n",
            "3                                          sometimes                                                   \n",
            "4                                         Yes, a lot                                                   \n",
            "\n",
            "  Do you think that consuming quick content (such as watching short videos and push notifications...) has affected your patience and ability to deal with long tasks?  \\\n",
            "0                                         Yes, a lot                                                                                                                    \n",
            "1                                             rarely                                                                                                                    \n",
            "2                                         Yes, a lot                                                                                                                    \n",
            "3                                          No, never                                                                                                                    \n",
            "4                                          sometimes                                                                                                                    \n",
            "\n",
            "  Do you use social media right before going to sleep?  \\\n",
            "0                                        Yes, always     \n",
            "1                                          sometimes     \n",
            "2                                        Yes, always     \n",
            "3                                          sometimes     \n",
            "4                                        Yes, always     \n",
            "\n",
            "  Do you have difficulty sleeping because of thinking about what you saw on social media platforms?  \\\n",
            "0                                          No, never                                                  \n",
            "1                                          No, never                                                  \n",
            "2                                        Yes, always                                                  \n",
            "3                                          No, never                                                  \n",
            "4                                             rarely                                                  \n",
            "\n",
            "  Does the number of likes or comments you get on your posts affect you?  \\\n",
            "0  I don't care about the number of likes or comm...                       \n",
            "1                                          No, never                       \n",
            "2                                        Yes, always                       \n",
            "3                                          No, never                       \n",
            "4                                          No, never                       \n",
            "\n",
            "  Have you changed your opinion or feeling based on the reactions of others on social media platforms?  \\\n",
            "0                                             rarely                                                     \n",
            "1                                          No, never                                                     \n",
            "2                                        Yes, always                                                     \n",
            "3                                        Yes, always                                                     \n",
            "4                                          No, never                                                     \n",
            "\n",
            "  Do you prefer interacting with friends or family online rather than face-to-face?  \\\n",
            "0                                        Yes, always                                  \n",
            "1                                          No, never                                  \n",
            "2                                          sometimes                                  \n",
            "3                                          sometimes                                  \n",
            "4                                          No, never                                  \n",
            "\n",
            "  How often do you find yourself using social media for longer than you planned?  \\\n",
            "0                                          sometimes                               \n",
            "1                                          sometimes                               \n",
            "2                                             always                               \n",
            "3                                              never                               \n",
            "4                                             rarely                               \n",
            "\n",
            "  How do you feel when you compare your life to the lives of others on social media?  \\\n",
            "0                                 Others hate hatred                                   \n",
            "1                   I don't feel anything, thank God                                   \n",
            "2                              I don't feel anything                                   \n",
            "3                                                  G                                   \n",
            "4                                Against comparisons                                   \n",
            "\n",
            "  What methods, if any, do you use to limit your social media access?  \n",
            "0                                            nothing                   \n",
            "1  Use the restrictions in Apple settings (from S...                   \n",
            "2  Setting limits on applications, placing the de...                   \n",
            "3                                                  B                   \n",
            "4                       Leave the device in the room                   \n",
            "\n",
            "[5 rows x 22 columns]\n"
          ]
        }
      ],
      "source": [
        "import pandas as pd\n",
        "survey_data = pd.read_csv('SurveyData.csv')\n",
        "\n",
        "\n",
        "print(\"Sample Data:\")\n",
        "print(survey_data.head())\n"
      ]
    },
    {
      "cell_type": "markdown",
      "metadata": {},
      "source": [
        "### 2-Ignoring the Last two Columns: "
      ]
    },
    {
      "cell_type": "markdown",
      "metadata": {},
      "source": [
        "In this step, we are ignoring the last two columns now because they will be used later in the preprocessing stage with algorithms such as sentiment analysis and tokenization\n"
      ]
    },
    {
      "cell_type": "code",
      "execution_count": 3,
      "metadata": {
        "trusted": true
      },
      "outputs": [
        {
          "name": "stdout",
          "output_type": "stream",
          "text": [
            "Data after ignoring (deleting) the last two columns:\n",
            "  the age:   Gender:   Area: Current educational level: marital status:  \\\n",
            "0    13-17  feminine  Riyadh  High school or equivalent        bachelor   \n",
            "1    18-24      male  Riyadh          Bachelor's degree        bachelor   \n",
            "2    18-24  feminine  Riyadh          Bachelor's degree        bachelor   \n",
            "3    18-24  feminine  Riyadh  High school or equivalent        bachelor   \n",
            "4    35-44  feminine  Riyadh          Bachelor's degree         married   \n",
            "\n",
            "      Employment status: Do you use social media applications?  \\\n",
            "0                student                                   Yes   \n",
            "1           Not employed                                   Yes   \n",
            "2                student                                   Yes   \n",
            "3                student                                   Yes   \n",
            "4  Housewife, unemployed                                   Yes   \n",
            "\n",
            "             What social media platforms do you use?  \\\n",
            "0  Instagram, X (Twitter), TikTok, Snapchat, Yout...   \n",
            "1  Instagram, X (Twitter), LinkedIn, TikTok, Snap...   \n",
            "2  Instagram, X (Twitter), LinkedIn, Snapchat, Yo...   \n",
            "3  X (Twitter), TikTok, Snapchat, Youtube, WhatsA...   \n",
            "4  Instagram, X (Twitter), Snapchat, WhatsApp, Lo...   \n",
            "\n",
            "  What app do you use the most?  \\\n",
            "0                        TikTok   \n",
            "1                   X (Twitter)   \n",
            "2                      WhatsApp   \n",
            "3                      WhatsApp   \n",
            "4                      Snapchat   \n",
            "\n",
            "  How many hours do you spend on social media platforms daily?  \\\n",
            "0                                   12 hours or more             \n",
            "1                                             03-Apr             \n",
            "2                                             09-Oct             \n",
            "3                                             05-Jun             \n",
            "4                                             05-Jun             \n",
            "\n",
            "  Do you feel anxious or stressed after reading negative comments on your posts?  \\\n",
            "0                                             rarely                               \n",
            "1                                          No, never                               \n",
            "2                                        Yes, always                               \n",
            "3                                          sometimes                               \n",
            "4                                          No, never                               \n",
            "\n",
            "  Are you worried about missing out on important information or events when you're not using social media?  \\\n",
            "0                                          No, never                                                         \n",
            "1                                          No, never                                                         \n",
            "2                                        Yes, always                                                         \n",
            "3                                        Yes, always                                                         \n",
            "4                                          sometimes                                                         \n",
            "\n",
            "  Do you feel that using social media has affected your ability to focus and accomplish daily tasks?  \\\n",
            "0                                         Yes, a lot                                                   \n",
            "1                                          sometimes                                                   \n",
            "2                                         Yes, a lot                                                   \n",
            "3                                          sometimes                                                   \n",
            "4                                         Yes, a lot                                                   \n",
            "\n",
            "  Do you think that consuming quick content (such as watching short videos and push notifications...) has affected your patience and ability to deal with long tasks?  \\\n",
            "0                                         Yes, a lot                                                                                                                    \n",
            "1                                             rarely                                                                                                                    \n",
            "2                                         Yes, a lot                                                                                                                    \n",
            "3                                          No, never                                                                                                                    \n",
            "4                                          sometimes                                                                                                                    \n",
            "\n",
            "  Do you use social media right before going to sleep?  \\\n",
            "0                                        Yes, always     \n",
            "1                                          sometimes     \n",
            "2                                        Yes, always     \n",
            "3                                          sometimes     \n",
            "4                                        Yes, always     \n",
            "\n",
            "  Do you have difficulty sleeping because of thinking about what you saw on social media platforms?  \\\n",
            "0                                          No, never                                                  \n",
            "1                                          No, never                                                  \n",
            "2                                        Yes, always                                                  \n",
            "3                                          No, never                                                  \n",
            "4                                             rarely                                                  \n",
            "\n",
            "  Does the number of likes or comments you get on your posts affect you?  \\\n",
            "0  I don't care about the number of likes or comm...                       \n",
            "1                                          No, never                       \n",
            "2                                        Yes, always                       \n",
            "3                                          No, never                       \n",
            "4                                          No, never                       \n",
            "\n",
            "  Have you changed your opinion or feeling based on the reactions of others on social media platforms?  \\\n",
            "0                                             rarely                                                     \n",
            "1                                          No, never                                                     \n",
            "2                                        Yes, always                                                     \n",
            "3                                        Yes, always                                                     \n",
            "4                                          No, never                                                     \n",
            "\n",
            "  Do you prefer interacting with friends or family online rather than face-to-face?  \\\n",
            "0                                        Yes, always                                  \n",
            "1                                          No, never                                  \n",
            "2                                          sometimes                                  \n",
            "3                                          sometimes                                  \n",
            "4                                          No, never                                  \n",
            "\n",
            "  How often do you find yourself using social media for longer than you planned?  \n",
            "0                                          sometimes                              \n",
            "1                                          sometimes                              \n",
            "2                                             always                              \n",
            "3                                              never                              \n",
            "4                                             rarely                              \n"
          ]
        }
      ],
      "source": [
        "survey_data = survey_data.drop(survey_data.columns[-2:], axis=1)\n",
        "\n",
        "print(\"Data after ignoring (deleting) the last two columns:\")\n",
        "print(survey_data.head())"
      ]
    },
    {
      "cell_type": "markdown",
      "metadata": {},
      "source": [
        "### 3-Deleting unnecessary Rows:"
      ]
    },
    {
      "cell_type": "markdown",
      "metadata": {},
      "source": [
        "In this step, we will delete all rows where the answer is 'No' in the \"Do you use social media applications?\" column, as these responses are not relevant to our analysis"
      ]
    },
    {
      "cell_type": "code",
      "execution_count": 4,
      "metadata": {
        "trusted": true
      },
      "outputs": [
        {
          "name": "stdout",
          "output_type": "stream",
          "text": [
            "Data after deleting rows with 'No' in the 'Do you use social media applications?' column:\n",
            "0    Yes\n",
            "1    Yes\n",
            "2    Yes\n",
            "3    Yes\n",
            "4    Yes\n",
            "5    Yes\n",
            "6    Yes\n",
            "7    Yes\n",
            "8    Yes\n",
            "9    Yes\n",
            "Name: Do you use social media applications?, dtype: object\n"
          ]
        }
      ],
      "source": [
        "survey_data = survey_data[survey_data[\"Do you use social media applications?\"] != \"No\"]\n",
        "print(\"Data after deleting rows with 'No' in the 'Do you use social media applications?' column:\")\n",
        "social_media_answers_sample = survey_data[\"Do you use social media applications?\"].head(10)\n",
        "print(social_media_answers_sample)"
      ]
    },
    {
      "cell_type": "markdown",
      "metadata": {},
      "source": [
        "### 4-Checking missing values:"
      ]
    },
    {
      "cell_type": "code",
      "execution_count": 5,
      "metadata": {
        "trusted": true
      },
      "outputs": [
        {
          "name": "stdout",
          "output_type": "stream",
          "text": [
            "Missing values in each column:\n",
            "the age:                                                                                                                                                               0\n",
            "Gender:                                                                                                                                                                0\n",
            "Area:                                                                                                                                                                  0\n",
            "Current educational level:                                                                                                                                             0\n",
            "marital status:                                                                                                                                                        0\n",
            "Employment status:                                                                                                                                                     0\n",
            "Do you use social media applications?                                                                                                                                  0\n",
            "What social media platforms do you use?                                                                                                                                0\n",
            "What app do you use the most?                                                                                                                                          0\n",
            "How many hours do you spend on social media platforms daily?                                                                                                           0\n",
            "Do you feel anxious or stressed after reading negative comments on your posts?                                                                                         0\n",
            "Are you worried about missing out on important information or events when you're not using social media?                                                               0\n",
            "Do you feel that using social media has affected your ability to focus and accomplish daily tasks?                                                                     0\n",
            "Do you think that consuming quick content (such as watching short videos and push notifications...) has affected your patience and ability to deal with long tasks?    0\n",
            "Do you use social media right before going to sleep?                                                                                                                   0\n",
            "Do you have difficulty sleeping because of thinking about what you saw on social media platforms?                                                                      0\n",
            "Does the number of likes or comments you get on your posts affect you?                                                                                                 0\n",
            "Have you changed your opinion or feeling based on the reactions of others on social media platforms?                                                                   0\n",
            "Do you prefer interacting with friends or family online rather than face-to-face?                                                                                      0\n",
            "How often do you find yourself using social media for longer than you planned?                                                                                         0\n",
            "dtype: int64\n",
            "\n",
            "There are no missing values in the dataset.\n"
          ]
        }
      ],
      "source": [
        "missing_values = survey_data.isnull().sum()\n",
        "\n",
        "print(\"Missing values in each column:\")\n",
        "print(missing_values)\n",
        "\n",
        "if missing_values.sum() == 0:\n",
        "    print(\"\\nThere are no missing values in the dataset.\")\n",
        "else:\n",
        "    print(\"\\nThere are missing values in the dataset. Please review the above output for details.\")\n"
      ]
    },
    {
      "cell_type": "markdown",
      "metadata": {},
      "source": [
        "### 5- Dealing with \"#VALUE!\" "
      ]
    },
    {
      "cell_type": "markdown",
      "metadata": {},
      "source": [
        "Now, we are going to check if the value \"#VALUE!\" occurs in the dataset, as it represents unanswered columns in the survey. "
      ]
    },
    {
      "cell_type": "code",
      "execution_count": 6,
      "metadata": {
        "trusted": true
      },
      "outputs": [
        {
          "name": "stdout",
          "output_type": "stream",
          "text": [
            "Found 156 occurrences of '#VALUE!' in the dataset. Deleting them now...\n",
            "Rows with '#VALUE!' have been deleted.\n",
            "\n",
            "Updated data sample after cleaning:\n",
            "  the age:   Gender:   Area: Current educational level: marital status:  \\\n",
            "0    13-17  feminine  Riyadh  High school or equivalent        bachelor   \n",
            "1    18-24      male  Riyadh          Bachelor's degree        bachelor   \n",
            "2    18-24  feminine  Riyadh          Bachelor's degree        bachelor   \n",
            "3    18-24  feminine  Riyadh  High school or equivalent        bachelor   \n",
            "4    35-44  feminine  Riyadh          Bachelor's degree         married   \n",
            "\n",
            "      Employment status: Do you use social media applications?  \\\n",
            "0                student                                   Yes   \n",
            "1           Not employed                                   Yes   \n",
            "2                student                                   Yes   \n",
            "3                student                                   Yes   \n",
            "4  Housewife, unemployed                                   Yes   \n",
            "\n",
            "             What social media platforms do you use?  \\\n",
            "0  Instagram, X (Twitter), TikTok, Snapchat, Yout...   \n",
            "1  Instagram, X (Twitter), LinkedIn, TikTok, Snap...   \n",
            "2  Instagram, X (Twitter), LinkedIn, Snapchat, Yo...   \n",
            "3  X (Twitter), TikTok, Snapchat, Youtube, WhatsA...   \n",
            "4  Instagram, X (Twitter), Snapchat, WhatsApp, Lo...   \n",
            "\n",
            "  What app do you use the most?  \\\n",
            "0                        TikTok   \n",
            "1                   X (Twitter)   \n",
            "2                      WhatsApp   \n",
            "3                      WhatsApp   \n",
            "4                      Snapchat   \n",
            "\n",
            "  How many hours do you spend on social media platforms daily?  \\\n",
            "0                                   12 hours or more             \n",
            "1                                             03-Apr             \n",
            "2                                             09-Oct             \n",
            "3                                             05-Jun             \n",
            "4                                             05-Jun             \n",
            "\n",
            "  Do you feel anxious or stressed after reading negative comments on your posts?  \\\n",
            "0                                             rarely                               \n",
            "1                                          No, never                               \n",
            "2                                        Yes, always                               \n",
            "3                                          sometimes                               \n",
            "4                                          No, never                               \n",
            "\n",
            "  Are you worried about missing out on important information or events when you're not using social media?  \\\n",
            "0                                          No, never                                                         \n",
            "1                                          No, never                                                         \n",
            "2                                        Yes, always                                                         \n",
            "3                                        Yes, always                                                         \n",
            "4                                          sometimes                                                         \n",
            "\n",
            "  Do you feel that using social media has affected your ability to focus and accomplish daily tasks?  \\\n",
            "0                                         Yes, a lot                                                   \n",
            "1                                          sometimes                                                   \n",
            "2                                         Yes, a lot                                                   \n",
            "3                                          sometimes                                                   \n",
            "4                                         Yes, a lot                                                   \n",
            "\n",
            "  Do you think that consuming quick content (such as watching short videos and push notifications...) has affected your patience and ability to deal with long tasks?  \\\n",
            "0                                         Yes, a lot                                                                                                                    \n",
            "1                                             rarely                                                                                                                    \n",
            "2                                         Yes, a lot                                                                                                                    \n",
            "3                                          No, never                                                                                                                    \n",
            "4                                          sometimes                                                                                                                    \n",
            "\n",
            "  Do you use social media right before going to sleep?  \\\n",
            "0                                        Yes, always     \n",
            "1                                          sometimes     \n",
            "2                                        Yes, always     \n",
            "3                                          sometimes     \n",
            "4                                        Yes, always     \n",
            "\n",
            "  Do you have difficulty sleeping because of thinking about what you saw on social media platforms?  \\\n",
            "0                                          No, never                                                  \n",
            "1                                          No, never                                                  \n",
            "2                                        Yes, always                                                  \n",
            "3                                          No, never                                                  \n",
            "4                                             rarely                                                  \n",
            "\n",
            "  Does the number of likes or comments you get on your posts affect you?  \\\n",
            "0  I don't care about the number of likes or comm...                       \n",
            "1                                          No, never                       \n",
            "2                                        Yes, always                       \n",
            "3                                          No, never                       \n",
            "4                                          No, never                       \n",
            "\n",
            "  Have you changed your opinion or feeling based on the reactions of others on social media platforms?  \\\n",
            "0                                             rarely                                                     \n",
            "1                                          No, never                                                     \n",
            "2                                        Yes, always                                                     \n",
            "3                                        Yes, always                                                     \n",
            "4                                          No, never                                                     \n",
            "\n",
            "  Do you prefer interacting with friends or family online rather than face-to-face?  \\\n",
            "0                                        Yes, always                                  \n",
            "1                                          No, never                                  \n",
            "2                                          sometimes                                  \n",
            "3                                          sometimes                                  \n",
            "4                                          No, never                                  \n",
            "\n",
            "  How often do you find yourself using social media for longer than you planned?  \n",
            "0                                          sometimes                              \n",
            "1                                          sometimes                              \n",
            "2                                             always                              \n",
            "3                                              never                              \n",
            "4                                             rarely                              \n"
          ]
        }
      ],
      "source": [
        "import pandas as pd\n",
        "\n",
        "value_error_count = (survey_data == \"#VALUE!\").sum().sum()\n",
        "\n",
        "if value_error_count > 0:\n",
        "    print(f\"Found {value_error_count} occurrences of '#VALUE!' in the dataset. Deleting them now...\")\n",
        "    survey_data = survey_data.replace(\"#VALUE!\", pd.NA).dropna()\n",
        "    print(\"Rows with '#VALUE!' have been deleted.\")\n",
        "else:\n",
        "    print(\"No occurrences of '#VALUE!' found in the dataset.\")\n",
        "\n",
        "print(\"\\nUpdated data sample after cleaning:\")\n",
        "print(survey_data.head())"
      ]
    },
    {
      "cell_type": "markdown",
      "metadata": {},
      "source": [
        "# Pre-Prossesing tasks \\"
      ]
    },
    {
      "cell_type": "markdown",
      "metadata": {},
      "source": [
        "### Sample Dataset"
      ]
    },
    {
      "cell_type": "code",
      "execution_count": 7,
      "metadata": {
        "trusted": true
      },
      "outputs": [
        {
          "name": "stdout",
          "output_type": "stream",
          "text": [
            "Sample Data:\n",
            "  the age:   Gender:   Area: Current educational level: marital status:  \\\n",
            "0    13-17  feminine  Riyadh  High school or equivalent        bachelor   \n",
            "1    18-24      male  Riyadh          Bachelor's degree        bachelor   \n",
            "2    18-24  feminine  Riyadh          Bachelor's degree        bachelor   \n",
            "3    18-24  feminine  Riyadh  High school or equivalent        bachelor   \n",
            "4    35-44  feminine  Riyadh          Bachelor's degree         married   \n",
            "\n",
            "      Employment status: Do you use social media applications?  \\\n",
            "0                student                                   Yes   \n",
            "1           Not employed                                   Yes   \n",
            "2                student                                   Yes   \n",
            "3                student                                   Yes   \n",
            "4  Housewife, unemployed                                   Yes   \n",
            "\n",
            "             What social media platforms do you use?  \\\n",
            "0  Instagram, X (Twitter), TikTok, Snapchat, Yout...   \n",
            "1  Instagram, X (Twitter), LinkedIn, TikTok, Snap...   \n",
            "2  Instagram, X (Twitter), LinkedIn, Snapchat, Yo...   \n",
            "3  X (Twitter), TikTok, Snapchat, Youtube, WhatsA...   \n",
            "4  Instagram, X (Twitter), Snapchat, WhatsApp, Lo...   \n",
            "\n",
            "  What app do you use the most?  \\\n",
            "0                        TikTok   \n",
            "1                   X (Twitter)   \n",
            "2                      WhatsApp   \n",
            "3                      WhatsApp   \n",
            "4                      Snapchat   \n",
            "\n",
            "  How many hours do you spend on social media platforms daily?  \\\n",
            "0                                   12 hours or more             \n",
            "1                                             03-Apr             \n",
            "2                                             09-Oct             \n",
            "3                                             05-Jun             \n",
            "4                                             05-Jun             \n",
            "\n",
            "  Do you feel anxious or stressed after reading negative comments on your posts?  \\\n",
            "0                                             rarely                               \n",
            "1                                          No, never                               \n",
            "2                                        Yes, always                               \n",
            "3                                          sometimes                               \n",
            "4                                          No, never                               \n",
            "\n",
            "  Are you worried about missing out on important information or events when you're not using social media?  \\\n",
            "0                                          No, never                                                         \n",
            "1                                          No, never                                                         \n",
            "2                                        Yes, always                                                         \n",
            "3                                        Yes, always                                                         \n",
            "4                                          sometimes                                                         \n",
            "\n",
            "  Do you feel that using social media has affected your ability to focus and accomplish daily tasks?  \\\n",
            "0                                         Yes, a lot                                                   \n",
            "1                                          sometimes                                                   \n",
            "2                                         Yes, a lot                                                   \n",
            "3                                          sometimes                                                   \n",
            "4                                         Yes, a lot                                                   \n",
            "\n",
            "  Do you think that consuming quick content (such as watching short videos and push notifications...) has affected your patience and ability to deal with long tasks?  \\\n",
            "0                                         Yes, a lot                                                                                                                    \n",
            "1                                             rarely                                                                                                                    \n",
            "2                                         Yes, a lot                                                                                                                    \n",
            "3                                          No, never                                                                                                                    \n",
            "4                                          sometimes                                                                                                                    \n",
            "\n",
            "  Do you use social media right before going to sleep?  \\\n",
            "0                                        Yes, always     \n",
            "1                                          sometimes     \n",
            "2                                        Yes, always     \n",
            "3                                          sometimes     \n",
            "4                                        Yes, always     \n",
            "\n",
            "  Do you have difficulty sleeping because of thinking about what you saw on social media platforms?  \\\n",
            "0                                          No, never                                                  \n",
            "1                                          No, never                                                  \n",
            "2                                        Yes, always                                                  \n",
            "3                                          No, never                                                  \n",
            "4                                             rarely                                                  \n",
            "\n",
            "  Does the number of likes or comments you get on your posts affect you?  \\\n",
            "0  I don't care about the number of likes or comm...                       \n",
            "1                                          No, never                       \n",
            "2                                        Yes, always                       \n",
            "3                                          No, never                       \n",
            "4                                          No, never                       \n",
            "\n",
            "  Have you changed your opinion or feeling based on the reactions of others on social media platforms?  \\\n",
            "0                                             rarely                                                     \n",
            "1                                          No, never                                                     \n",
            "2                                        Yes, always                                                     \n",
            "3                                        Yes, always                                                     \n",
            "4                                          No, never                                                     \n",
            "\n",
            "  Do you prefer interacting with friends or family online rather than face-to-face?  \\\n",
            "0                                        Yes, always                                  \n",
            "1                                          No, never                                  \n",
            "2                                          sometimes                                  \n",
            "3                                          sometimes                                  \n",
            "4                                          No, never                                  \n",
            "\n",
            "  How often do you find yourself using social media for longer than you planned?  \n",
            "0                                          sometimes                              \n",
            "1                                          sometimes                              \n",
            "2                                             always                              \n",
            "3                                              never                              \n",
            "4                                             rarely                              \n"
          ]
        }
      ],
      "source": [
        "print(\"Sample Data:\")\n",
        "print(survey_data.head())"
      ]
    },
    {
      "cell_type": "markdown",
      "metadata": {},
      "source": [
        "### 1- Data Transformation "
      ]
    },
    {
      "cell_type": "markdown",
      "metadata": {},
      "source": [
        "Here, we identified and replaced inconsistent or incorrect values in our dataset. For example, we replaced \"feminine\" with \"Female\" in the Gender column and corrected city names like \"grandmother\" to \"Jeddah,\" \"the news\" to \"Khobar,\" and \"City\" to \"Madinah\" in the City column.\n",
        "\n"
      ]
    },
    {
      "cell_type": "code",
      "execution_count": 8,
      "metadata": {
        "trusted": true
      },
      "outputs": [
        {
          "name": "stdout",
          "output_type": "stream",
          "text": [
            "\n",
            "Updated data sample after replacing incorrect words:\n",
            "    Gender:   Area:\n",
            "0    Female  Riyadh\n",
            "1      male  Riyadh\n",
            "2    Female  Riyadh\n",
            "3    Female  Riyadh\n",
            "4    Female  Riyadh\n",
            "..      ...     ...\n",
            "247  Female  Riyadh\n",
            "248  Female  Jeddah\n",
            "249  Female  Riyadh\n",
            "250    male  Riyadh\n",
            "251  Female    Abha\n",
            "\n",
            "[250 rows x 2 columns]\n"
          ]
        }
      ],
      "source": [
        "# Replace \"feminine\" with \"Female\" in the Gender column\n",
        "survey_data['Gender:'] = survey_data['Gender:'].replace(\"feminine\", \"Female\")\n",
        "\n",
        "# Replace incorrect city names in the City column\n",
        "survey_data['Area:'] = survey_data['Area:'].replace({\n",
        "    \"grandmother\": \"Jeddah\", \n",
        "    \"the news\": \"Khobar\", \n",
        "    \"City\": \"Madinah\"\n",
        "})\n",
        "\n",
        "# Display a sample of the updated dataset\n",
        "print(\"\\nUpdated data sample after replacing incorrect words:\")\n",
        "print(survey_data[['Gender:', 'Area:']].head(250))\n"
      ]
    },
    {
      "cell_type": "markdown",
      "metadata": {},
      "source": [
        "### 2- Range(1-5):"
      ]
    },
    {
      "cell_type": "markdown",
      "metadata": {},
      "source": [
        "Now, we are converting the survey responses into a numerical range from 1 to 5. This step ensures that the data is standardized and ready for analysis. "
      ]
    },
    {
      "cell_type": "code",
      "execution_count": 9,
      "metadata": {
        "trusted": true
      },
      "outputs": [
        {
          "name": "stderr",
          "output_type": "stream",
          "text": [
            "<ipython-input-9-eaef766881da>:27: FutureWarning: Downcasting behavior in `replace` is deprecated and will be removed in a future version. To retain the old behavior, explicitly call `result.infer_objects(copy=False)`. To opt-in to the future behavior, set `pd.set_option('future.no_silent_downcasting', True)`\n",
            "  survey_data[column] = survey_data[column].replace(response_mapping)\n"
          ]
        },
        {
          "name": "stdout",
          "output_type": "stream",
          "text": [
            "\n",
            "Updated data sample with answers converted to range 1-5:\n",
            "  Do you feel anxious or stressed after reading negative comments on your posts?  \\\n",
            "0                                                  4                               \n",
            "1                                                  5                               \n",
            "2                                                  1                               \n",
            "3                                                  3                               \n",
            "4                                                  5                               \n",
            "5                                                  3                               \n",
            "6                                                  1                               \n",
            "7                                                  5                               \n",
            "8                                                  4                               \n",
            "9                                                  3                               \n",
            "\n",
            "   Are you worried about missing out on important information or events when you're not using social media?  \\\n",
            "0                                                  5                                                          \n",
            "1                                                  5                                                          \n",
            "2                                                  1                                                          \n",
            "3                                                  1                                                          \n",
            "4                                                  3                                                          \n",
            "5                                                  1                                                          \n",
            "6                                                  1                                                          \n",
            "7                                                  5                                                          \n",
            "8                                                  5                                                          \n",
            "9                                                  3                                                          \n",
            "\n",
            "   Do you feel that using social media has affected your ability to focus and accomplish daily tasks?  \\\n",
            "0                                                  2                                                    \n",
            "1                                                  3                                                    \n",
            "2                                                  2                                                    \n",
            "3                                                  3                                                    \n",
            "4                                                  2                                                    \n",
            "5                                                  2                                                    \n",
            "6                                                  2                                                    \n",
            "7                                                  3                                                    \n",
            "8                                                  4                                                    \n",
            "9                                                  2                                                    \n",
            "\n",
            "   Do you think that consuming quick content (such as watching short videos and push notifications...) has affected your patience and ability to deal with long tasks?  \\\n",
            "0                                                  2                                                                                                                     \n",
            "1                                                  4                                                                                                                     \n",
            "2                                                  2                                                                                                                     \n",
            "3                                                  5                                                                                                                     \n",
            "4                                                  3                                                                                                                     \n",
            "5                                                  2                                                                                                                     \n",
            "6                                                  2                                                                                                                     \n",
            "7                                                  3                                                                                                                     \n",
            "8                                                  4                                                                                                                     \n",
            "9                                                  3                                                                                                                     \n",
            "\n",
            "   Do you use social media right before going to sleep?  \\\n",
            "0                                                  1      \n",
            "1                                                  3      \n",
            "2                                                  1      \n",
            "3                                                  3      \n",
            "4                                                  1      \n",
            "5                                                  1      \n",
            "6                                                  1      \n",
            "7                                                  1      \n",
            "8                                                  1      \n",
            "9                                                  3      \n",
            "\n",
            "   Do you have difficulty sleeping because of thinking about what you saw on social media platforms?  \\\n",
            "0                                                  5                                                   \n",
            "1                                                  5                                                   \n",
            "2                                                  1                                                   \n",
            "3                                                  5                                                   \n",
            "4                                                  4                                                   \n",
            "5                                                  4                                                   \n",
            "6                                                  4                                                   \n",
            "7                                                  5                                                   \n",
            "8                                                  5                                                   \n",
            "9                                                  3                                                   \n",
            "\n",
            "  Does the number of likes or comments you get on your posts affect you?  \\\n",
            "0  I don't care about the number of likes or comm...                       \n",
            "1                                                  5                       \n",
            "2                                                  1                       \n",
            "3                                                  5                       \n",
            "4                                                  5                       \n",
            "5                                                  5                       \n",
            "6                                                  3                       \n",
            "7  I don't care about the number of likes or comm...                       \n",
            "8                                                  4                       \n",
            "9                                                  3                       \n",
            "\n",
            "   Have you changed your opinion or feeling based on the reactions of others on social media platforms?  \\\n",
            "0                                                  4                                                      \n",
            "1                                                  5                                                      \n",
            "2                                                  1                                                      \n",
            "3                                                  1                                                      \n",
            "4                                                  5                                                      \n",
            "5                                                  4                                                      \n",
            "6                                                  4                                                      \n",
            "7                                                  5                                                      \n",
            "8                                                  4                                                      \n",
            "9                                                  5                                                      \n",
            "\n",
            "   Do you prefer interacting with friends or family online rather than face-to-face?  \\\n",
            "0                                                  1                                   \n",
            "1                                                  5                                   \n",
            "2                                                  3                                   \n",
            "3                                                  3                                   \n",
            "4                                                  5                                   \n",
            "5                                                  3                                   \n",
            "6                                                  3                                   \n",
            "7                                                  1                                   \n",
            "8                                                  3                                   \n",
            "9                                                  4                                   \n",
            "\n",
            "   How often do you find yourself using social media for longer than you planned?  \n",
            "0                                                  3                               \n",
            "1                                                  3                               \n",
            "2                                                  1                               \n",
            "3                                                  5                               \n",
            "4                                                  4                               \n",
            "5                                                  3                               \n",
            "6                                                  3                               \n",
            "7                                                  1                               \n",
            "8                                                  3                               \n",
            "9                                                  3                               \n"
          ]
        }
      ],
      "source": [
        "columns_to_convert = [\n",
        "    \"Do you feel anxious or stressed after reading negative comments on your posts?\",\n",
        "    \"Are you worried about missing out on important information or events when you're not using social media?\", \n",
        "    \"Do you feel that using social media has affected your ability to focus and accomplish daily tasks?\", \n",
        "    \"Do you think that consuming quick content (such as watching short videos and push notifications...) has affected your patience and ability to deal with long tasks?\", \n",
        "    \"Do you use social media right before going to sleep?\", \n",
        "    \"Do you have difficulty sleeping because of thinking about what you saw on social media platforms?\", \n",
        "    \"Does the number of likes or comments you get on your posts affect you?\", \n",
        "    \"Have you changed your opinion or feeling based on the reactions of others on social media platforms?\", \n",
        "    \"Do you prefer interacting with friends or family online rather than face-to-face?\", \n",
        "    \"How often do you find yourself using social media for longer than you planned?\"\n",
        "]\n",
        "\n",
        "response_mapping = {\n",
        "    \"Yes, always\": 1,\n",
        "    \"always\": 1,\n",
        "    \"Yes, a lot\": 2,\n",
        "    \"often\": 2,\n",
        "    \"sometimes\": 3,\n",
        "    \"Rarely\": 4,\n",
        "    \"rarely\": 4,\n",
        "    \"No, never\": 5,\n",
        "    \"never\": 5\n",
        "}\n",
        "\n",
        "for column in columns_to_convert:\n",
        "    survey_data[column] = survey_data[column].replace(response_mapping)\n",
        "\n",
        "print(\"\\nUpdated data sample with answers converted to range 1-5:\")\n",
        "print(survey_data[columns_to_convert].head(10))\n"
      ]
    },
    {
      "cell_type": "markdown",
      "metadata": {},
      "source": [
        "# Open-ended question analysis"
      ]
    },
    {
      "cell_type": "markdown",
      "metadata": {},
      "source": [
        "## Dealing with the First Open Text Question"
      ]
    },
    {
      "cell_type": "markdown",
      "metadata": {},
      "source": [
        "This tool uses natural language processing techniques, particularly the VADER sentiment analysis algorithm, to analyze survey responses.<br>\n",
        "The goal is to categorize the responses into thematic groups and determine the sentiment of the respondents. The survey question being analyzed is: **\"How do you feel when you compare your life to the lives of others on social media?\"**.<br> By examining the language used in the responses, we aim to uncover patterns in how individuals perceive the impact of social media on their lives, categorizing the responses into key themes such as inspiration, frustration, and satisfaction, while also determining whether the sentiments expressed are positive, negative, or neutral."
      ]
    },
    {
      "cell_type": "markdown",
      "metadata": {},
      "source": [
        "- Methodology"
      ]
    },
    {
      "cell_type": "markdown",
      "metadata": {},
      "source": [
        "1. Importing Libraries:"
      ]
    },
    {
      "cell_type": "code",
      "execution_count": 1,
      "metadata": {},
      "outputs": [
        {
          "name": "stderr",
          "output_type": "stream",
          "text": [
            "[nltk_data] Downloading package vader_lexicon to\n",
            "[nltk_data]     C:\\Users\\sra28\\AppData\\Roaming\\nltk_data...\n",
            "[nltk_data]   Package vader_lexicon is already up-to-date!\n"
          ]
        },
        {
          "data": {
            "text/plain": [
              "True"
            ]
          },
          "execution_count": 1,
          "metadata": {},
          "output_type": "execute_result"
        }
      ],
      "source": [
        "import pandas as pd\n",
        "import re\n",
        "from nltk.sentiment import SentimentIntensityAnalyzer\n",
        "import nltk\n",
        "import matplotlib.pyplot as plt\n",
        "\n",
        "# Ensure the necessary library for sentiment analysis is downloaded\n",
        "nltk.download('vader_lexicon')"
      ]
    },
    {
      "cell_type": "markdown",
      "metadata": {},
      "source": [
        "2. Loading the Survey Data:"
      ]
    },
    {
      "cell_type": "code",
      "execution_count": 2,
      "metadata": {},
      "outputs": [],
      "source": [
        "\n",
        "try:\n",
        "    df = pd.read_csv('SurveyData.csv', encoding='latin1')\n",
        "except FileNotFoundError:\n",
        "    print(\"The file 'SurveyData.csv' was not found. Please check the file path.\")\n",
        "    exit()\n"
      ]
    },
    {
      "cell_type": "markdown",
      "metadata": {},
      "source": [
        "We load the survey data from a CSV file. If the file is missing, an error message is displayed and the program exits."
      ]
    },
    {
      "cell_type": "markdown",
      "metadata": {},
      "source": [
        "3. Initializing Sentiment Analysis:"
      ]
    },
    {
      "cell_type": "code",
      "execution_count": 3,
      "metadata": {},
      "outputs": [],
      "source": [
        "if 'How do you feel when you compare your life to the lives of others on social media?' in df.columns:\n",
        "    sia = SentimentIntensityAnalyzer()"
      ]
    },
    {
      "cell_type": "markdown",
      "metadata": {},
      "source": [
        "We check if the key survey question is present in the dataset. If found, we initialize the sentiment analyzer using VADER."
      ]
    },
    {
      "cell_type": "markdown",
      "metadata": {},
      "source": [
        "4. Identifying Meaningless Text:"
      ]
    },
    {
      "cell_type": "code",
      "execution_count": 5,
      "metadata": {},
      "outputs": [],
      "source": [
        "\n",
        "def is_meaningless(text):\n",
        "    return bool(re.match(r'^\\W*$', text.strip()))\n"
      ]
    },
    {
      "cell_type": "markdown",
      "metadata": {},
      "source": [
        "A function is defined to identify meaningless texts, which consist of only whitespace or non-word characters, such as symbols or empty strings."
      ]
    },
    {
      "cell_type": "markdown",
      "metadata": {},
      "source": [
        "5. Defining Themes Based on Keywords:"
      ]
    },
    {
      "cell_type": "code",
      "execution_count": 6,
      "metadata": {},
      "outputs": [],
      "source": [
        "    themes = {\n",
        "        'inspiration': [\n",
        "            'inspire', 'motivate', 'challenge', 'change', 'development', \n",
        "            'skills', 'learn', 'positive', 'motivation', 'accomplish', \n",
        "            'achieve', 'incentive', 'aspiration', 'striving', 'motivated',\n",
        "            'inspired', 'satisfied'\n",
        "        ],\n",
        "        'frustration': [\n",
        "            'frustration', 'inadequacy', 'incomplete', 'sadness', 'lack', \n",
        "            'inferior', 'dissatisfaction', 'self-blame', 'helpless', 'anxiety', \n",
        "            'negative', 'loss', 'worried', 'frustrated', 'broken'\n",
        "        ],\n",
        "        'pressure': [\n",
        "            'pressure', 'comparison', 'expectations', 'shortcomings', 'concerned', \n",
        "            'blessings', 'striving', 'psychological', 'stress'\n",
        "        ],\n",
        "        'satisfaction': [\n",
        "            'satisfied', 'content', 'bliss', 'thankful', 'grateful', \n",
        "            'normal', 'praise', 'fulfilled', 'happy', 'satisfaction', 'gratitude',\n",
        "'normal', 'understanding', 'reality', 'perspective', 'balanced', \n",
        "            'unbothered', 'indifferent', 'no comparison', 'don’t care'\n",
        "        ],\n",
        "        'deficiency': [\n",
        "            'deficiency', 'lack', 'nothing', 'empty', 'inadequate', \n",
        "            'neglect', 'failure', 'inferior', 'frustrated', 'deficit'\n",
        "        ],\n",
        "        'negativity': [\n",
        "            'envy', 'jealousy', 'disappointment', 'resentment', \n",
        "            'negative', 'unhappy', 'bitter'\n",
        "        ]\n",
        "\n",
        "    }"
      ]
    },
    {
      "cell_type": "markdown",
      "metadata": {},
      "source": [
        "We define key themes (e.g., inspiration, frustration, pressure, etc.), along with associated keywords that will help categorize the responses based on the language used."
      ]
    },
    {
      "cell_type": "markdown",
      "metadata": {},
      "source": [
        "6. Theme Categorization Function:"
      ]
    },
    {
      "cell_type": "code",
      "execution_count": 7,
      "metadata": {},
      "outputs": [],
      "source": [
        "def categorize_theme(text):\n",
        "    if is_meaningless(text):\n",
        "        return 'Not Expressive'\n",
        "    else:\n",
        "        tokens = re.findall(r'\\b\\w+\\b', text.lower())\n",
        "        for theme, keywords in themes.items():\n",
        "            if any(token in keywords for token in tokens):\n",
        "                return theme\n",
        "        return 'Other'\n"
      ]
    },
    {
      "cell_type": "markdown",
      "metadata": {},
      "source": [
        "This function tokenizes the text responses and assigns them to a relevant theme based on the keywords defined earlier. If the text is meaningless, it is categorized as 'Not Expressive.' If no theme matches, the response is classified as 'Other.'"
      ]
    },
    {
      "cell_type": "markdown",
      "metadata": {},
      "source": [
        "7. Sentiment Analysis Function:"
      ]
    },
    {
      "cell_type": "code",
      "execution_count": 8,
      "metadata": {},
      "outputs": [],
      "source": [
        "def categorize_sentiment(text):\n",
        "    if is_meaningless(text):\n",
        "        return 'Not Expressive'\n",
        "    score = sia.polarity_scores(text)['compound']\n",
        "    if score > 0.05:\n",
        "        return 'Positive'\n",
        "    elif score < -0.05:\n",
        "        return 'Negative'\n",
        "    else:\n",
        "        return 'Neutral'\n"
      ]
    },
    {
      "cell_type": "markdown",
      "metadata": {},
      "source": [
        "The sentiment analysis function uses the VADER algorithm to classify each response as positive, negative, or neutral based on its sentiment score. Non-expressive text is categorized separately."
      ]
    },
    {
      "cell_type": "markdown",
      "metadata": {},
      "source": [
        "8. Adding Theme and Sentiment Columns:"
      ]
    },
    {
      "cell_type": "code",
      "execution_count": 9,
      "metadata": {},
      "outputs": [],
      "source": [
        "\n",
        "df['Theme'] = df['How do you feel when you compare your life to the lives of others on social media?'].apply(categorize_theme)\n",
        "df['Sentiment'] = df['How do you feel when you compare your life to the lives of others on social media?'].apply(categorize_sentiment)\n"
      ]
    },
    {
      "cell_type": "markdown",
      "metadata": {},
      "source": [
        "We add two new columns to the dataset: one for the theme of the response and another for its sentiment."
      ]
    },
    {
      "cell_type": "markdown",
      "metadata": {},
      "source": [
        "10. Visualizing the Results:"
      ]
    },
    {
      "cell_type": "code",
      "execution_count": 10,
      "metadata": {},
      "outputs": [
        {
          "data": {
            "image/png": "[encoded data removed]",
            "text/plain": [
              "<Figure size 1200x600 with 1 Axes>"
            ]
          },
          "metadata": {},
          "output_type": "display_data"
        },
        {
          "data": {
            "image/png": "[encoded data removed]",
            "text/plain": [
              "<Figure size 1200x600 with 1 Axes>"
            ]
          },
          "metadata": {},
          "output_type": "display_data"
        }
      ],
      "source": [
        "\n",
        "theme_counts = df['Theme'].value_counts()\n",
        "sentiment_counts = df['Sentiment'].value_counts()\n",
        "\n",
        "theme_counts = theme_counts[theme_counts.index != 'Other']\n",
        "\n",
        "colors = ['#cceeff', '#99ddff', '#66ccff', '#33bbff']\n",
        "\n",
        "\n",
        "plt.figure(figsize=(12, 6))\n",
        "theme_counts.plot(kind='bar', color=colors)\n",
        "plt.title('Theme Analysis Results')\n",
        "plt.xlabel('Themes')\n",
        "plt.ylabel('Number of Responses')\n",
        "plt.xticks(rotation=45)\n",
        "plt.tight_layout()\n",
        "plt.show()\n",
        "\n",
        "\n",
        "plt.figure(figsize=(12, 6))\n",
        "sentiment_counts.plot(kind='bar', color=colors)\n",
        "plt.title('Sentiment Analysis Results')\n",
        "plt.xlabel('Sentiment Categories')\n",
        "plt.ylabel('Number of Responses')\n",
        "plt.xticks(rotation=45)\n",
        "plt.tight_layout()\n",
        "plt.show()\n"
      ]
    },
    {
      "cell_type": "markdown",
      "metadata": {},
      "source": [
        "We generate bar plots for both themes and sentiment categories. The plots visualize the distribution of responses across different themes and sentiment categories, providing insights into the impact of social media comparisons."
      ]
    },
    {
      "cell_type": "markdown",
      "metadata": {},
      "source": [
        "## Dealing with the Second Open Text Question"
      ]
    },
    {
      "cell_type": "markdown",
      "metadata": {},
      "source": [
        "The question is 'How do you feel when you compare your life to the lives of others on social media?' We will apply tokenization effectively to break down the responses into meaningful units, allowing us to analyze the specific words and patterns used by participants "
      ]
    },
    {
      "cell_type": "markdown",
      "metadata": {},
      "source": [
        "### Open Text Tokenization\n",
        "We started by loading the survey data from a CSV file containing participants' responses about their strategies for limiting social media access. Once the data was successfully loaded, we moved on to the data cleaning stage. This step involved removing unnecessary characters and blank responses, ensuring that only meaningful responses were retained for further analysis.\n",
        "\n",
        "Next, we processed the cleaned data by breaking down each response into individual words, a process known as tokenization. We chose tokenization because it allowed us to convert each response into smaller, manageable units (tokens), making it easier to identify specific keywords and patterns mentioned by participants. This approach enabled us to systematically analyze the text, ensuring that we captured every relevant detail about their strategies.\n",
        "\n",
        "We then assigned initial codes to each response based on predefined keywords related to various strategies, such as \"time management,\" \"tools,\" and \"distraction.\" By checking each response for these keywords, we could assign appropriate codes that represented the strategies mentioned by participants. After assigning the initial codes, we mapped them to broader themes like \"Time Management,\" \"Application Limits,\" and \"No/Nothing Responses.\" This step helped group the responses into more comprehensive categories, providing a clearer understanding of the strategies used. Finally, we visualized the frequency of each theme using a bar chart, which revealed that \"Time Management,\" \"No/Nothing Responses,\" and \"Distraction Techniques\" were the most common methods people use to limit their social media access. This systematic approach allowed us to gain valuable insights into participants' strategies for managing their social media usage."
      ]
    },
    {
      "cell_type": "code",
      "execution_count": 13,
      "metadata": {
        "trusted": true
      },
      "outputs": [
        {
          "name": "stdout",
          "output_type": "stream",
          "text": [
            "Initial DataFrame:\n",
            "  the age:   Gender:   Area: Current educational level: marital status:  \\\n",
            "0    13-17  feminine  Riyadh  High school or equivalent        bachelor   \n",
            "1    18-24      male  Riyadh          Bachelor's degree        bachelor   \n",
            "2    18-24  feminine  Riyadh          Bachelor's degree        bachelor   \n",
            "3    18-24  feminine  Riyadh  High school or equivalent        bachelor   \n",
            "4    35-44  feminine  Riyadh          Bachelor's degree         married   \n",
            "\n",
            "      Employment status: Do you use social media applications?  \\\n",
            "0                student                                   Yes   \n",
            "1           Not employed                                   Yes   \n",
            "2                student                                   Yes   \n",
            "3                student                                   Yes   \n",
            "4  Housewife, unemployed                                   Yes   \n",
            "\n",
            "             What social media platforms do you use?  \\\n",
            "0  Instagram, X (Twitter), TikTok, Snapchat, Yout...   \n",
            "1  Instagram, X (Twitter), LinkedIn, TikTok, Snap...   \n",
            "2  Instagram, X (Twitter), LinkedIn, Snapchat, Yo...   \n",
            "3  X (Twitter), TikTok, Snapchat, Youtube, WhatsA...   \n",
            "4  Instagram, X (Twitter), Snapchat, WhatsApp, Lo...   \n",
            "\n",
            "  What app do you use the most?  \\\n",
            "0                        TikTok   \n",
            "1                   X (Twitter)   \n",
            "2                      WhatsApp   \n",
            "3                      WhatsApp   \n",
            "4                      Snapchat   \n",
            "\n",
            "  How many hours do you spend on social media platforms daily?  ...  \\\n",
            "0                                   12 hours or more            ...   \n",
            "1                                                3-4            ...   \n",
            "2                                               9-10            ...   \n",
            "3                                                5-6            ...   \n",
            "4                                                5-6            ...   \n",
            "\n",
            "  Do you feel that using social media has affected your ability to focus and accomplish daily tasks?  \\\n",
            "0                                         Yes, a lot                                                   \n",
            "1                                          sometimes                                                   \n",
            "2                                         Yes, a lot                                                   \n",
            "3                                          sometimes                                                   \n",
            "4                                         Yes, a lot                                                   \n",
            "\n",
            "  Do you think that consuming quick content (such as watching short videos and push notifications...) has affected your patience and ability to deal with long tasks?  \\\n",
            "0                                         Yes, a lot                                                                                                                    \n",
            "1                                             rarely                                                                                                                    \n",
            "2                                         Yes, a lot                                                                                                                    \n",
            "3                                          No, never                                                                                                                    \n",
            "4                                          sometimes                                                                                                                    \n",
            "\n",
            "  Do you use social media right before going to sleep?  \\\n",
            "0                                        Yes, always     \n",
            "1                                          sometimes     \n",
            "2                                        Yes, always     \n",
            "3                                          sometimes     \n",
            "4                                        Yes, always     \n",
            "\n",
            "  Do you have difficulty sleeping because of thinking about what you saw on social media platforms?  \\\n",
            "0                                          No, never                                                  \n",
            "1                                          No, never                                                  \n",
            "2                                        Yes, always                                                  \n",
            "3                                          No, never                                                  \n",
            "4                                             rarely                                                  \n",
            "\n",
            "  Does the number of likes or comments you get on your posts affect you?  \\\n",
            "0  I don't care about the number of likes or comm...                       \n",
            "1                                          No, never                       \n",
            "2                                        Yes, always                       \n",
            "3                                          No, never                       \n",
            "4                                          No, never                       \n",
            "\n",
            "  Have you changed your opinion or feeling based on the reactions of others on social media platforms?  \\\n",
            "0                                             rarely                                                     \n",
            "1                                          No, never                                                     \n",
            "2                                        Yes, always                                                     \n",
            "3                                        Yes, always                                                     \n",
            "4                                          No, never                                                     \n",
            "\n",
            "  Do you prefer interacting with friends or family online rather than face-to-face?  \\\n",
            "0                                        Yes, always                                  \n",
            "1                                          No, never                                  \n",
            "2                                          sometimes                                  \n",
            "3                                          sometimes                                  \n",
            "4                                          No, never                                  \n",
            "\n",
            "  How often do you find yourself using social media for longer than you planned?  \\\n",
            "0                                          sometimes                               \n",
            "1                                          sometimes                               \n",
            "2                                             always                               \n",
            "3                                              never                               \n",
            "4                                             rarely                               \n",
            "\n",
            "  How do you feel when you compare your life to the lives of others on social media?  \\\n",
            "0                                 Others hate hatred                                   \n",
            "1                   I don't feel anything, thank God                                   \n",
            "2                              I don't feel anything                                   \n",
            "3                                                  G                                   \n",
            "4                                Against comparisons                                   \n",
            "\n",
            "  What methods, if any, do you use to limit your social media access?  \n",
            "0                                            nothing                   \n",
            "1  Use the restrictions in Apple settings (from S...                   \n",
            "2  Setting limits on applications, placing the de...                   \n",
            "3                                                  B                   \n",
            "4                       Leave the device in the room                   \n",
            "\n",
            "[5 rows x 22 columns]\n"
          ]
        }
      ],
      "source": [
        "import pandas as pd\n",
        "import re\n",
        "import matplotlib.pyplot as plt\n",
        "\n",
        "\n",
        "df = pd.read_csv('SurveyData.csv', encoding='latin1')\n",
        "\n",
        "print(\"Initial DataFrame:\")\n",
        "print(df.head())  \n"
      ]
    },
    {
      "cell_type": "code",
      "execution_count": 14,
      "metadata": {
        "trusted": true
      },
      "outputs": [
        {
          "name": "stdout",
          "output_type": "stream",
          "text": [
            "\n",
            "DataFrame after cleaning:\n",
            "  What methods, if any, do you use to limit your social media access?  \\\n",
            "0                                            nothing                    \n",
            "1  Use the restrictions in Apple settings (from S...                    \n",
            "2  Setting limits on applications, placing the de...                    \n",
            "4                       Leave the device in the room                    \n",
            "6          Leave your cell phone and self-flagellate                    \n",
            "\n",
            "                                    cleaned_response  \n",
            "0                                            nothing  \n",
            "1  Use the restrictions in Apple settings (from S...  \n",
            "2  Setting limits on applications, placing the de...  \n",
            "4                       Leave the device in the room  \n",
            "6          Leave your cell phone and self-flagellate  \n"
          ]
        }
      ],
      "source": [
        "# Step 2: Clean the Data\n",
        "def clean_response(text):\n",
        "    text = str(text).strip()\n",
        "    if text in ['.', '', 'A', 'B', '??', '...']:\n",
        "        return None\n",
        "    return text\n",
        "\n",
        "df['cleaned_response'] = df['What methods, if any, do you use to limit your social media access?'].apply(clean_response)\n",
        "df = df.dropna(subset=['cleaned_response'])\n",
        "\n",
        "# Display the DataFrame after cleaning\n",
        "print(\"\\nDataFrame after cleaning:\")\n",
        "print(df[['What methods, if any, do you use to limit your social media access?', 'cleaned_response']].head())\n"
      ]
    },
    {
      "cell_type": "code",
      "execution_count": 15,
      "metadata": {
        "trusted": true
      },
      "outputs": [
        {
          "name": "stdout",
          "output_type": "stream",
          "text": [
            "\n",
            "DataFrame after tokenization:\n",
            "                                    cleaned_response  \\\n",
            "0                                            nothing   \n",
            "1  Use the restrictions in Apple settings (from S...   \n",
            "2  Setting limits on applications, placing the de...   \n",
            "4                       Leave the device in the room   \n",
            "6          Leave your cell phone and self-flagellate   \n",
            "\n",
            "                                              tokens  \n",
            "0                                          [nothing]  \n",
            "1  [use, the, restrictions, in, apple, settings, ...  \n",
            "2  [setting, limits, on, applications, placing, t...  \n",
            "4                [leave, the, device, in, the, room]  \n",
            "6  [leave, your, cell, phone, and, self, flagellate]  \n"
          ]
        }
      ],
      "source": [
        "# Step 3: Tokenization\n",
        "def tokenize(text):\n",
        "    return re.findall(r'\\b\\w+\\b', text.lower())\n",
        "\n",
        "df.loc[:, 'tokens'] = df['cleaned_response'].apply(tokenize)\n",
        "\n",
        "# Display the DataFrame after tokenization\n",
        "print(\"\\nDataFrame after tokenization:\")\n",
        "print(df[['cleaned_response', 'tokens']].head())"
      ]
    },
    {
      "cell_type": "code",
      "execution_count": 16,
      "metadata": {
        "trusted": true
      },
      "outputs": [
        {
          "name": "stdout",
          "output_type": "stream",
          "text": [
            "\n",
            "DataFrame after coding:\n",
            "                                    cleaned_response  \\\n",
            "0                                            nothing   \n",
            "1  Use the restrictions in Apple settings (from S...   \n",
            "2  Setting limits on applications, placing the de...   \n",
            "4                       Leave the device in the room   \n",
            "6          Leave your cell phone and self-flagellate   \n",
            "\n",
            "                                              tokens              codes  \n",
            "0                                          [nothing]       [no_nothing]  \n",
            "1  [use, the, restrictions, in, apple, settings, ...  [time_management]  \n",
            "2  [setting, limits, on, applications, placing, t...                 []  \n",
            "4                [leave, the, device, in, the, room]                 []  \n",
            "6  [leave, your, cell, phone, and, self, flagellate]                 []  \n"
          ]
        }
      ],
      "source": [
        "# Step 4: Generate Initial Codes\n",
        "initial_codes = {\n",
        "    'time_management': ['limit', 'time', 'hours', 'schedule', 'timer'],\n",
        "    'tools': ['apps', 'blocker', 'delete'],\n",
        "    'personal_strategies': ['detox', 'break', 'reward', 'go out', 'hobbies'],\n",
        "    'distraction': ['busy', 'occupy', 'family', 'friends', 'chores'],\n",
        "    'mindfulness': ['reflect', 'think', 'impact'],\n",
        "    'social_interaction': ['gathering', 'friends', 'family'],\n",
        "    'personal_control': ['control', 'decide', 'goals'],\n",
        "    'mixed_feelings': ['enjoy', 'positive', 'reward'],\n",
        "    'no_nothing': ['no', 'nothing'],  # New entry for \"no\" and \"nothing\"\n",
        "}\n",
        "\n",
        "def code_response(tokens):\n",
        "    codes = []\n",
        "    for code, keywords in initial_codes.items():\n",
        "        if any(keyword in tokens for keyword in keywords):\n",
        "            codes.append(code)\n",
        "    return codes\n",
        "\n",
        "# Generate codes\n",
        "df.loc[:, 'codes'] = df['tokens'].apply(code_response)\n",
        "\n",
        "# Display the DataFrame after coding\n",
        "print(\"\\nDataFrame after coding:\")\n",
        "print(df[['cleaned_response', 'tokens', 'codes']].head())"
      ]
    },
    {
      "cell_type": "code",
      "execution_count": 17,
      "metadata": {
        "trusted": true
      },
      "outputs": [
        {
          "name": "stdout",
          "output_type": "stream",
          "text": [
            "\n",
            "Final DataFrame with themes:\n",
            "  What methods, if any, do you use to limit your social media access?  \\\n",
            "0                                            nothing                    \n",
            "1  Use the restrictions in Apple settings (from S...                    \n",
            "2  Setting limits on applications, placing the de...                    \n",
            "4                       Leave the device in the room                    \n",
            "6          Leave your cell phone and self-flagellate                    \n",
            "\n",
            "                                    cleaned_response  \\\n",
            "0                                            nothing   \n",
            "1  Use the restrictions in Apple settings (from S...   \n",
            "2  Setting limits on applications, placing the de...   \n",
            "4                       Leave the device in the room   \n",
            "6          Leave your cell phone and self-flagellate   \n",
            "\n",
            "                                              tokens              codes  \\\n",
            "0                                          [nothing]       [no_nothing]   \n",
            "1  [use, the, restrictions, in, apple, settings, ...  [time_management]   \n",
            "2  [setting, limits, on, applications, placing, t...                 []   \n",
            "4                [leave, the, device, in, the, room]                 []   \n",
            "6  [leave, your, cell, phone, and, self, flagellate]                 []   \n",
            "\n",
            "                   themes  \n",
            "0  [No/Nothing Responses]  \n",
            "1       [Time Management]  \n",
            "2                      []  \n",
            "4                      []  \n",
            "6                      []  \n",
            "\n",
            "Theme counts:\n",
            "themes\n",
            "Time Management                      115\n",
            "No/Nothing Responses                 109\n",
            "Distraction Techniques               100\n",
            "Application Limits                    41\n",
            "Social Interaction                    39\n",
            "Personal Agency and Control           13\n",
            "Mixed Feelings About Social Media      4\n",
            "Mindfulness and Self-Reflection        3\n",
            "Name: count, dtype: int64\n"
          ]
        }
      ],
      "source": [
        "# Step 5: Define and Assign Themes\n",
        "if 'codes' in df.columns:\n",
        "    themes = {\n",
        "        'Device Management': ['device_management'],\n",
        "        'Application Limits': ['tools'],\n",
        "        'Time Management': ['time_management'],\n",
        "        'Mixed Feelings About Social Media': ['mixed_feelings'],\n",
        "        'Distraction Techniques': ['distraction'],\n",
        "        'Mindfulness and Self-Reflection': ['mindfulness'],\n",
        "        'Social Interaction': ['social_interaction'],\n",
        "        'Personal Agency and Control': ['personal_control'],\n",
        "        'No/Nothing Responses': ['no_nothing'],  # New entry for the theme\n",
        "    }\n",
        "\n",
        "    def assign_theme(codes):\n",
        "        assigned_themes = []\n",
        "        for theme, codes_list in themes.items():\n",
        "            if any(code in codes for code in codes_list):\n",
        "                assigned_themes.append(theme)\n",
        "        return assigned_themes\n",
        "\n",
        "    # Assign themes\n",
        "    df.loc[:, 'themes'] = df['codes'].apply(assign_theme)\n",
        "\n",
        "    # Display the final DataFrame with themes\n",
        "    print(\"\\nFinal DataFrame with themes:\")\n",
        "    print(df[['What methods, if any, do you use to limit your social media access?', 'cleaned_response', 'tokens', 'codes', 'themes']].head())\n",
        "\n",
        "    # Print out the theme counts for further analysis\n",
        "    theme_counts = df['themes'].explode().value_counts()\n",
        "    print(\"\\nTheme counts:\")\n",
        "    print(theme_counts)\n",
        "else:\n",
        "    print(\"Error: 'codes' column is missing.\")"
      ]
    },
    {
      "cell_type": "code",
      "execution_count": 18,
      "metadata": {
        "trusted": true
      },
      "outputs": [
        {
          "data": {
            "image/png": "[encoded data removed]",
            "text/plain": [
              "<Figure size 1000x600 with 1 Axes>"
            ]
          },
          "metadata": {},
          "output_type": "display_data"
        }
      ],
      "source": [
        "# Step 6: Visualization\n",
        "plt.figure(figsize=(10, 6))\n",
        "theme_counts.plot(kind='bar', color='skyblue')\n",
        "plt.title('Theme Counts of Social Media Limiting Strategies')\n",
        "plt.xlabel('Themes')\n",
        "plt.ylabel('Counts')\n",
        "plt.xticks(rotation=45, ha='right')\n",
        "plt.tight_layout()\n",
        "plt.show()"
      ]
    },
    {
      "cell_type": "code",
      "execution_count": 19,
      "metadata": {
        "trusted": true
      },
      "outputs": [
        {
          "name": "stdout",
          "output_type": "stream",
          "text": [
            "Theme percentages:\n",
            "themes\n",
            "Time Management                      13.805522\n",
            "No/Nothing Responses                 13.085234\n",
            "Distraction Techniques               12.004802\n",
            "Application Limits                    4.921969\n",
            "Social Interaction                    4.681873\n",
            "Personal Agency and Control           1.560624\n",
            "Mixed Feelings About Social Media     0.480192\n",
            "Mindfulness and Self-Reflection       0.360144\n",
            "Name: count, dtype: float64\n"
          ]
        }
      ],
      "source": [
        "# Step 7: Calculate Percentage of Each Theme\n",
        "total_responses = len(df)\n",
        "theme_percentage = (theme_counts / total_responses) * 100\n",
        "\n",
        "# Display theme percentages\n",
        "print(\"Theme percentages:\")\n",
        "print(theme_percentage)\n"
      ]
    },
    {
      "cell_type": "code",
      "execution_count": 20,
      "metadata": {
        "trusted": true
      },
      "outputs": [
        {
          "name": "stdout",
          "output_type": "stream",
          "text": [
            "Dominant Themes:\n",
            "themes\n",
            "Time Management           115\n",
            "No/Nothing Responses      109\n",
            "Distraction Techniques    100\n",
            "Application Limits         41\n",
            "Social Interaction         39\n",
            "Name: count, dtype: int64\n"
          ]
        }
      ],
      "source": [
        "# Step 8:Dominant themes analysis\n",
        "dominant_themes = theme_counts.head()\n",
        "print(\"Dominant Themes:\")\n",
        "print(dominant_themes)\n"
      ]
    },
    {
      "cell_type": "markdown",
      "metadata": {},
      "source": [
        "#### Now we’ll explore how often themes appear together. This can reveal patterns where certain strategies are used in conjunction "
      ]
    },
    {
      "cell_type": "code",
      "execution_count": 21,
      "metadata": {
        "trusted": true
      },
      "outputs": [
        {
          "name": "stdout",
          "output_type": "stream",
          "text": [
            "Most common co-occurring themes:\n",
            "[(('Distraction Techniques', 'Social Interaction'), 39), (('Distraction Techniques', 'Time Management'), 13), (('Application Limits', 'Time Management'), 8), (('No/Nothing Responses', 'Time Management'), 7), (('Personal Agency and Control', 'Time Management'), 6), (('Social Interaction', 'Time Management'), 5), (('Distraction Techniques', 'Personal Agency and Control'), 2), (('Application Limits', 'Distraction Techniques'), 2), (('Application Limits', 'Mixed Feelings About Social Media'), 1), (('Mixed Feelings About Social Media', 'Time Management'), 1)]\n"
          ]
        }
      ],
      "source": [
        "# Step 9:Co-occurring themes analysis\n",
        "from itertools import combinations\n",
        "from collections import Counter\n",
        "\n",
        "# Count co-occurring themes\n",
        "co_occurrences = Counter()\n",
        "for theme_list in df['themes']:\n",
        "    if len(theme_list) > 1:\n",
        "        co_occurrences.update(combinations(sorted(theme_list), 2))\n",
        "\n",
        "# Display the most common co-occurrences\n",
        "print(\"Most common co-occurring themes:\")\n",
        "print(co_occurrences.most_common(10))\n"
      ]
    },
    {
      "cell_type": "code",
      "execution_count": 22,
      "metadata": {
        "trusted": true
      },
      "outputs": [
        {
          "name": "stdout",
          "output_type": "stream",
          "text": [
            "Rare Themes:\n",
            "themes\n",
            "Application Limits                   41\n",
            "Social Interaction                   39\n",
            "Personal Agency and Control          13\n",
            "Mixed Feelings About Social Media     4\n",
            "Mindfulness and Self-Reflection       3\n",
            "Name: count, dtype: int64\n"
          ]
        }
      ],
      "source": [
        "# Step 10:Co-occurring themes analysis\n",
        "\n",
        "# Rare themes analysis\n",
        "rare_themes = theme_counts.tail()\n",
        "print(\"Rare Themes:\")\n",
        "print(rare_themes)\n"
      ]
    },
    {
      "cell_type": "markdown",
      "metadata": {},
      "source": [
        "#### themes that appear rarely, which could provide insights into unique or lesser-known strategies\\"
      ]
    },
    {
      "cell_type": "code",
      "execution_count": 23,
      "metadata": {
        "trusted": true
      },
      "outputs": [
        {
          "name": "stdout",
          "output_type": "stream",
          "text": [
            "Rare Themes:\n",
            "themes\n",
            "Application Limits                   41\n",
            "Social Interaction                   39\n",
            "Personal Agency and Control          13\n",
            "Mixed Feelings About Social Media     4\n",
            "Mindfulness and Self-Reflection       3\n",
            "Name: count, dtype: int64\n"
          ]
        }
      ],
      "source": [
        "# Rare themes analysis\n",
        "rare_themes = theme_counts.tail()\n",
        "print(\"Rare Themes:\")\n",
        "print(rare_themes)\n"
      ]
    },
    {
      "cell_type": "markdown",
      "metadata": {},
      "source": [
        "#### For qualitative analysis, we can pull sample responses that were coded into each theme. This gives context to the numbers"
      ]
    },
    {
      "cell_type": "code",
      "execution_count": 24,
      "metadata": {
        "trusted": true
      },
      "outputs": [
        {
          "name": "stdout",
          "output_type": "stream",
          "text": [
            "\n",
            "Examples for theme: Time Management\n",
            "- Use the restrictions in Apple settings (from Settings > Screen Time > App Limits)\n",
            "- Time management\n",
            "- Setting a timer for me on the mobile phone at such and such an hour. I will stop using the mobile phone, or move it away from the place where I am sitting. For example, put it on the bed and sit at the desk away from it to complete tasks, and so on. Put it on silent at times that require me to study or work on something important at that time. So as not to distract me\n",
            "\n",
            "Examples for theme: No/Nothing Responses\n",
            "- nothing\n",
            "- Honestly, there is nothing wrong with it, but if I have a job and I have to deliver it, I usually stay away from them\n",
            "- nothing\n",
            "\n",
            "Examples for theme: Distraction Techniques\n",
            "- I turn off my phone and occupy myself with studying, reading, or anything else\n",
            "- Sitting with my family and studying helps me leave my phone\n",
            "- Trying to get busy reading the Qur?an and some books\n",
            "\n",
            "Examples for theme: Application Limits\n",
            "- Delete the app forever Kik Tok \n",
            "When studying, I use the phone holder or put my phone in another room\n",
            "- I delete some applications or put them on the device in a place where I cannot see them until I finish my tasks. I use social media as a reward after I finish work. I leave the device in a far away place.\n",
            "- Delete applications\n",
            "\n",
            "Examples for theme: Social Interaction\n",
            "- Sitting with my family and studying helps me leave my phone\n",
            "- Being busy with necessary work and tasks and trying to make gatherings for friends and family in reality\n",
            "- Being busy with friends\n",
            "\n",
            "Examples for theme: Personal Agency and Control\n",
            "- Setting other goals that occupy time and benefit me away from devices, such as sports and favorite hobbies.\n",
            "- I don't use any method, I can control it, thank God\n",
            "- Setting my goals for the day, a schedule, and setting limits on applications\n",
            "\n",
            "Examples for theme: Mixed Feelings About Social Media\n",
            "- I delete some applications or put them on the device in a place where I cannot see them until I finish my tasks. I use social media as a reward after I finish work. I leave the device in a far away place.\n",
            "- I previously used the limits of applications, but now I see that I benefit from my time on social media applications. I use them in my free time and enjoy them, and this is what is required. Therefore, your portrayal of social media as an addictive tool bothers me. It helps many, makes many happy, and is considered a reward for me from the pressures of study and other things.\n",
            "- I don't know, but may God grant you success, reward you well, and grant you success ????\n",
            "\n",
            "Examples for theme: Mindfulness and Self-Reflection\n",
            "- I remember my unfinished tasks and think about what tomorrow will be like if I don't complete it and how it will affect me\n",
            "- Deleting applications from the phone, keeping the mobile phone on silent, keeping the answer away from me in the room, downloading programs on the iPad. You may think that they are not useful, but by God, they are more useful than the programs on the mobile phone, specifically deleting the Tik Tok application.\n",
            "- I don't have any methods, nor do I need them. I think I'm able to control myself because I like to accomplish my tasks and then use social media comfortably, and I think that's enough for me.\n"
          ]
        }
      ],
      "source": [
        "# Example quotes for each theme\n",
        "for theme in theme_counts.index:\n",
        "    print(f\"\\nExamples for theme: {theme}\")\n",
        "    sample_responses = df[df['themes'].apply(lambda x: theme in x)]['What methods, if any, do you use to limit your social media access?'].head(3)\n",
        "    for response in sample_responses:\n",
        "        print(f\"- {response}\")\n"
      ]
    },
    {
      "cell_type": "markdown",
      "metadata": {},
      "source": [
        "#### We can update the visualization to display percentages instead of counts."
      ]
    },
    {
      "cell_type": "code",
      "execution_count": 25,
      "metadata": {
        "trusted": true
      },
      "outputs": [
        {
          "data": {
            "image/png": "[encoded data removed]",
            "text/plain": [
              "<Figure size 1000x600 with 1 Axes>"
            ]
          },
          "metadata": {},
          "output_type": "display_data"
        }
      ],
      "source": [
        "# Step 8: Visualization of Percentages\n",
        "plt.figure(figsize=(10, 6))\n",
        "theme_percentage.plot(kind='bar', color='skyblue')\n",
        "plt.title('Percentage of Social Media Limiting Strategies by Theme')\n",
        "plt.xlabel('Themes')\n",
        "plt.ylabel('Percentage (%)')\n",
        "plt.xticks(rotation=45, ha='right')\n",
        "plt.tight_layout()\n",
        "plt.show()\n"
      ]
    },
    {
      "cell_type": "markdown",
      "metadata": {},
      "source": [
        "# Decision Made"
      ]
    },
    {
      "cell_type": "markdown",
      "metadata": {},
      "source": [
        "During our project on the impact of social media on mental health, we made several key decisions to ensure the accuracy and effectiveness of the study. These decisions were crucial in designing the survey and analyzing the data in a way that aligns with the research objectives. Below are the most significant decisions we made:\n",
        "\n",
        "1. **Consulting Psychological Experts**:\n",
        "\n",
        "We decided to reach out to psychology experts to ensure our survey questions were accurate and relevant to mental health.\n",
        "\n",
        "2. **Survey Language**:\n",
        "\n",
        "We chose to distribute the survey in Arabic, as our target audience is Saudi, and using their native language would facilitate responses and increase participation.\n",
        "\n",
        "3. **Excluding Non-Social Media Users**:\n",
        "\n",
        "We excluded 10 participants out of 852 who indicated they don’t use social media, as their small number made them statistically insignificant.\n",
        "\n",
        "4. **Converting Responses to a Numeric Scale**:\n",
        "\n",
        "We converted qualitative responses to a 1-4 range to align with secondary data from Kaggle, which uses the same scale for easier comparison."
      ]
    },
    {
      "cell_type": "markdown",
      "metadata": {},
      "source": [
        "### Challenges and how we over come them\n",
        "\n",
        "During the survey, we encountered several challenges throughout the process. These challenges ranged from technical issues concerning data quality to difficulties participants faced while completing the survey. Each obstacle required careful consideration and strategic solutions to ensure the validity and reliability of the collected data. Addressing these challenges was crucial for preserving the integrity of the research and obtaining meaningful results.\n",
        "\n",
        "Here are the main challenges we faced:\n",
        "\n",
        "1. **Questionnaire Design:** One of the significant challenges was developing a questionnaire with valid and effective questions that addressed the research questions. It was essential to ensure that the questions were clear and straightforward to avoid any confusion for the respondents. To tackle this, we collaborated with experts to review the questions, ensuring they aligned with the research objectives.\n",
        "\n",
        "2. **Questionnaire Fatigue:** This is a common issue, as lengthy questionnaires can cause participants to lose interest. To mitigate this, we designed a concise and focused questionnaire that included essential questions, dividing it into sections. The first section collected demographic data, followed by the primary research questions.\n",
        "\n",
        "3. **Misunderstanding of Questions:** Another challenge was the risk of participants misunderstanding the questions, which could result in inaccurate or irrelevant answers. To alleviate this, we employed simple language and provided examples for questions that required further clarification, making it easier for participants to understand and respond accurately.\n",
        "\n",
        "4. **Sample Diversity:** Achieving diversity within the sample across various demographics was also a challenge. To address this, we utilized multiple social media platforms, which allowed us to reach a broader audience.\n",
        "\n",
        "After completing the survey and gathering a substantial number of responses, we began to verify the results and encountered the following issues:\n",
        "\n",
        "**Unanswered Questions:** A significant issue was the presence of unanswered questions, with many participants skipping certain items, leading to incomplete data. This posed a risk to the accuracy and reliability of the results. To resolve this, we identified and removed rows with #VALUE during the data cleaning phase, ensuring the integrity of the remaining dataset was preserved.\n",
        "\n",
        "**Literal Translation Issues:** Throughout the project, we faced challenges with the literal translation of documents from Arabic to English, as noted in the pre-processing phase. Certain phrases and terms often failed to convey the intended meaning in English, resulting in confusion and misinterpretation of key concepts. To tackle this, we identified and corrected any inconsistent or incorrect values in our dataset, ensuring the original context and clarity were maintained. Additionally, we conducted thorough reviews of the translated content to identify and rectify any phrases that could lead to misunderstandings, thereby enhancing the overall quality of the document.\n",
        "\n"
      ]
    },
    {
      "cell_type": "markdown",
      "metadata": {},
      "source": [
        "## Recommendations:\n",
        "Improve Participant Engagement- Increase Sample Size and Diversity- Employ More Detailed Data Analysis-"
      ]
    },
    {
      "cell_type": "markdown",
      "metadata": {},
      "source": [
        "## Impact and Implications:\n",
        "The findings demonstrate that social media has both positive and negative effects on mental health. While it fosters social interaction and support, it also poses risks such as anxiety and depression. These insights can inform the development of mental health interventions, including educational campaigns and support programs tailored for social media users."
      ]
    }
  ],
  "metadata": {
    "kernelspec": {
      "display_name": "Python 3",
      "language": "python",
      "name": "python3"
    },
    "language_info": {
      "codemirror_mode": {
        "name": "ipython",
        "version": 3
      },
      "file_extension": ".py",
      "mimetype": "text/x-python",
      "name": "python",
      "nbconvert_exporter": "python",
      "pygments_lexer": "ipython3",
      "version": "3.12.5"
    }
  },
  "nbformat": 4,
  "nbformat_minor": 4
}
