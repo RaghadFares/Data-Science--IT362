{
  "cells": [
    {
      "cell_type": "markdown",
      "metadata": {},
      "source": [
        "# Google Trends API Data\n",
        "## - Introduction:\n",
        "\n",
        "#### Primary Objective:\n",
        "The main goal of collecting Google Trends data for Saudi Arabia is to analyze the interest in social media and mental health across the country over specific time periods between 2020 and 2024. This analysis will help to understand how interest in social media evolves and its potential impact on mental health in Saudi Arabia over time.\n",
        "\n",
        "#### Secondary Objectives:\n",
        "\n",
        "##### - Trend Analysis Over Time:\n",
        "We aim to determine whether there is an increase or decrease in interest in social media and mental health over the years in Saudi Arabia. This will help identify any emerging patterns or changes in public concern related to these topics.\n",
        "\n",
        "##### - Drawing Conclusions About the Potential Impact of Social Media:\n",
        "Based on the data, we will be able to form preliminary conclusions about the relationship between increased social media usage and the level of interest in mental health in the country. This may offer insights into how digital engagement correlates with mental health awareness or concern within the Saudi cultural context."
      ]
    },
    {
      "cell_type": "markdown",
      "metadata": {},
      "source": [
        "## - Source of Dataset:\n",
        "The dataset was sourced from Google Trends, accessible via the following link: [Google Trends.](https://trends.google.com/trends/)\n",
        "\n",
        "The data was retrieved programmatically using the 'pytrends' library, which provides a Python interface to interact with the Google Trends API. "
      ]
    },
    {
      "cell_type": "markdown",
      "metadata": {},
      "source": [
        "## - Attributes’ description table:"
      ]
    },
    {
      "cell_type": "markdown",
      "metadata": {},
      "source": [
        "| Column Name                      | Description                                                                 | Data Type   | Possible Values                         |\n",
        "|:----------------------------------|:--------------------------------------------------------------------------|:-----------:|:----------------------------------------:|\n",
        "| `date`                            | Represents the year associated with the data entry.                        | Object     | Continuous dates (e.g., '2020-01-01')      |\n",
        "| `Year`                            | Indicates the year of the data entry.                                      | Numeric     | Integer values (e.g., 2020, 2021)       |\n",
        "| `Country`                         | Represents the country for which the data is collected.                    | Categorical | Country codes (e.g., 'SA')              |\n",
        "| `mental health`                   | Represents the overall interest in mental health for the year and country. | Numeric     | Continuous numeric values (e.g., 2014)  |\n",
        "| `social media`                    | Represents the overall interest in social media for the year and country.  | Numeric     | Continuous numeric values (e.g., 4123)  |\n",
        "| `Facebook`                        | Represents the interest in Facebook for the year and country.              | Numeric     | Continuous numeric values (e.g., 3947)  |\n",
        "| `Instagram`                       | Represents the interest in Instagram for the year and country.             | Numeric     | Continuous numeric values (e.g., 4307)  |\n",
        "| `LinkedIn`                        | Represents the interest in LinkedIn for the year and country.              | Numeric     | Continuous numeric values (e.g., 4010)  |\n",
        "| `Snapchat`                        | Represents the interest in Snapchat for the year and country.              | Numeric     | Continuous numeric values (e.g., 4104)  |\n",
        "| `TikTok`                          | Represents the interest in TikTok for the year and country.                | Numeric     | Continuous numeric values (e.g., 3096)  |\n",
        "| `WhatsApp`                        | Represents the interest in WhatsApp for the year and country.              | Numeric     | Continuous numeric values (e.g., 4299)  |\n",
        "| `YouTube`                         | Represents the interest in YouTube for the year and country.               | Numeric     | Continuous numeric values (e.g., 4312)  |\n",
        "| `Twitter(X)`                      | Represents the interest in the rebranded Twitter platform \"X.\"            | Numeric     | Continuous numeric values (e.g., 3927)  |\n",
        "| `addiction and social media`      | Represents the interest in addiction-related queries for social media.     | Numeric     | Continuous numeric values     |\n",
        "| `depression and social media`     | Represents the interest in depression-related queries for social media.    | Numeric     | Continuous numeric values      |\n",
        "| `insomnia and social media`       | Represents the interest in insomnia-related queries for social media.      | Numeric     | Continuous numeric values     |\n",
        "| `isPartial`                       | Indicates whether the data for a particular year is complete or partial.   | Numeric     | 0 = complete, non-zero = partial (e.g., 11) |\n"
      ]
    },
    {
      "cell_type": "markdown",
      "metadata": {},
      "source": [
        "## - Steps:"
      ]
    },
    {
      "cell_type": "markdown",
      "metadata": {},
      "source": [
        "#### 1. Installation\n",
        "Before running the script to collect data from Google Trends, the necessary Python library, pytrends, had to be installed. This was done using the command-line interface (CMD) on the computer. To install the pytrends library, the following command was executed:"
      ]
    },
    {
      "cell_type": "code",
      "execution_count": null,
      "metadata": {
        "trusted": true
      },
      "outputs": [],
      "source": [
        "pip install pytrends"
      ]
    },
    {
      "cell_type": "markdown",
      "metadata": {},
      "source": [
        "This command utilizes Python’s package manager, pip, to download and install the pytrends library. The CMD (Command Prompt) was used to ensure that the library was available in the environment, allowing the script to make requests to Google Trends and retrieve the required data.\n",
        "\n",
        "Once the installation was successfully completed, the script was ready to run without any issues related to missing dependencies."
      ]
    },
    {
      "cell_type": "markdown",
      "metadata": {},
      "source": [
        "#### 2. Importing Necessary Libraries"
      ]
    },
    {
      "cell_type": "code",
      "execution_count": 22,
      "metadata": {
        "trusted": true
      },
      "outputs": [],
      "source": [
        "from pytrends.request import TrendReq\n",
        "import pandas as pd\n",
        "import time\n",
        "import random\n",
        "from pytrends.exceptions import ResponseError"
      ]
    },
    {
      "cell_type": "markdown",
      "metadata": {},
      "source": [
        "In this code, we imported the necessary libraries and tools for working with Google Trends and data. Here's a breakdown of what we did:\n",
        "\n",
        "1. from pytrends.request import TrendReq:\n",
        "We imported TrendReq from pytrends, allowing us to access Google Trends data. This is the main object used to send search queries to Google Trends.\n",
        "2. import pandas as pd:\n",
        "We imported Pandas, a popular data analysis library, to organize and manipulate the data using DataFrames for easy analysis.\n",
        "3. import time:\n",
        "We imported time to manage time-based functions like delaying execution between requests to avoid overwhelming Google with too many queries at once.\n",
        "4. import random:\n",
        "We imported random to introduce random delays between requests, ensuring that our requests appear natural and avoid triggering any rate limits.\n",
        "5. from pytrends.exceptions import ResponseError:\n",
        "We imported ResponseError to handle potential errors from Google Trends, allowing us to retry requests or manage failures gracefully."
      ]
    },
    {
      "cell_type": "markdown",
      "metadata": {},
      "source": [
        "#### 3. Setting up Google Trends Request"
      ]
    },
    {
      "cell_type": "code",
      "execution_count": 7,
      "metadata": {
        "trusted": true
      },
      "outputs": [],
      "source": [
        "pytrends = TrendReq(hl='en-US', tz=360, timeout=(10, 25))"
      ]
    },
    {
      "cell_type": "markdown",
      "metadata": {},
      "source": [
        "we are initializing a TrendReq object from the pytrends library with some specific parameters:\n",
        "\n",
        "- hl='en-US':\n",
        "\n",
        "This sets the language for the Google Trends results to English (United States). The hl parameter stands for \"host language.\"\n",
        "- tz=360:\n",
        "\n",
        "This sets the time zone to UTC+6 hours (360 minutes). Time zones are specified in minutes from UTC. For example, 0 is UTC, and 360 corresponds to UTC+6.\n",
        "- timeout=(10, 25):\n",
        "\n",
        "This sets a timeout for the connection. It consists of two values:\n",
        "10 seconds for the connection to be established.\n",
        "25 seconds for reading the data once connected.\n",
        "\n",
        "These timeouts help ensure that the code doesn't hang indefinitely if there's a slow response from Google Trends.\n",
        "\n",
        "\n",
        "By creating this pytrends object, we are now ready to send search queries to Google Trends with the specified language, time zone, and connection settings."
      ]
    },
    {
      "cell_type": "markdown",
      "metadata": {},
      "source": [
        "#### 4. Defining Keyword Groups"
      ]
    },
    {
      "cell_type": "code",
      "execution_count": 29,
      "metadata": {
        "trusted": true
      },
      "outputs": [],
      "source": [
        "keywords_group1 = [\n",
        "    \"social media\",\n",
        "    \"mental health\",\n",
        "    \"depression and social media\",\n",
        "    \"anxiety and social media\"\n",
        "]\n",
        "\n",
        "keywords_group2 = [\n",
        "    \"insomnia and social media\",\n",
        "    \"stress and social media\",\n",
        "    \"addiction and social media\",\n",
        "]\n",
        "\n",
        "keywords_group3 = [\n",
        "    \"Instagram\",\n",
        "    \"Twitter\",\n",
        "    \"Platform X\",\n",
        "    \"Facebook\",\n",
        "]\n",
        "\n",
        "keywords_group4 = [\n",
        "    \"Snapchat\",\n",
        "    \"TikTok\",\n",
        "    \"LinkedIn\",\n",
        "    \"YouTube\",\n",
        "    \"WhatsApp\"\n",
        "]\n"
      ]
    },
    {
      "cell_type": "markdown",
      "metadata": {},
      "source": [
        "This section of the code organizes the keywords into four distinct groups. These keywords will be used for Google Trends data analysis to track public interest in social media platforms and their potential impact on mental health. \n",
        "<br>\n",
        "The keywords were divided into two groups for several practical reasons:\n",
        "<br>\n",
        "- **Reduce API request load**: \n",
        "By splitting the keywords into smaller groups, we can perform multiple API calls without overloading the system, ensuring smooth data retrieval.\n",
        "\n",
        "- **Data Accuracy**: \n",
        "By splitting the terms, we can ensure more accurate and focused data collection. Querying too many terms at once can dilute the relevance of the data, especially when comparing distinct platforms or topics.\n",
        "\n",
        "This separation makes it easier to conduct a detailed analysis of trends for both social media platforms and mental health topics without overwhelming the system.\n",
        "\n",
        "\n",
        "\n",
        "\n",
        "\n"
      ]
    },
    {
      "cell_type": "markdown",
      "metadata": {},
      "source": [
        "#### 5. Specifying Time Ranges for Each Year"
      ]
    },
    {
      "cell_type": "code",
      "execution_count": 24,
      "metadata": {
        "trusted": true
      },
      "outputs": [],
      "source": [
        "years = {\n",
        "    '2020': '2020-01-01 2020-12-31',\n",
        "    '2021': '2021-01-01 2021-12-31',\n",
        "    '2022': '2022-01-01 2022-12-31',\n",
        "    '2023': '2023-01-01 2023-12-31',\n",
        "    '2024': '2024-01-01 2024-12-31'\n",
        "}"
      ]
    },
    {
      "cell_type": "markdown",
      "metadata": {},
      "source": [
        "The dictionary years specifies the time range for each year from 2020 to 2024 because the Google Trends API does not allow for direct yearly data retrieval. Instead, the API requires precise date ranges that include specific months and days. By defining each year with exact start and end dates (from January 1st to December 31st), we can simulate yearly data collection.\n",
        "\n",
        "This step was necessary because the API only accepts data requests with monthly and daily granularity, not by year. Therefore, creating these specific date ranges ensures that we can retrieve data for an entire year without gaps."
      ]
    },
    {
      "cell_type": "markdown",
      "metadata": {},
      "source": [
        "#### 7. Function to Fetch Google Trends Data "
      ]
    },
    {
      "cell_type": "code",
      "execution_count": 30,
      "metadata": {
        "trusted": true
      },
      "outputs": [],
      "source": [
        "countries = ['SA']\n",
        "def fetch_data_with_retry(country, keywords, year, timeframe, retries=3):\n",
        "    for attempt in range(retries):\n",
        "        try:\n",
        "            pytrends.build_payload(keywords, cat=0, timeframe=timeframe, geo=country, gprop='')\n",
        "            data = pytrends.interest_over_time()\n",
        "            return data\n",
        "        except ResponseError as e:\n",
        "            if \"429\" in str(e):\n",
        "                print(f\"Rate limit exceeded for {country}, retrying... ({attempt + 1}/{retries})\")\n",
        "                time.sleep(60 * (attempt + 1))  \n",
        "            else:\n",
        "                print(f\"Other error occurred: {e}\")\n",
        "                break\n",
        "        except Exception as e:\n",
        "            print(f\"Error: {e}\")\n",
        "            break\n",
        "    return pd.DataFrame() "
      ]
    },
    {
      "cell_type": "markdown",
      "metadata": {},
      "source": [
        "In this function, `fetch_data_with_retry`, we're implementing a method to retrieve Google Trends data with a built-in retry mechanism in case errors occur, particularly when the rate limit is exceeded. Here's a summary of the function:\n",
        "\n",
        "- **Parameters**:\n",
        "  - `country`: The country code for which we want to retrieve data.\n",
        "  - `keywords`: A list of keywords to search for (e.g., ['social media', 'mental health']).\n",
        "  - `year`: The year of interest (used to define the timeframe).\n",
        "  - `timeframe`: The period for the query (e.g., '2020-01-01 2021-01-01').\n",
        "  - `retries`: The number of attempts to retry fetching the data if the request fails (default is 3 retries).\n",
        "\n",
        "- **Function Workflow**:\n",
        "  - **for attempt in range(retries)**:\n",
        "    This loop allows the function to try retrieving the data up to the specified number of retries if an error occurs.\n",
        "  - **pytrends.build_payload**:\n",
        "    This is where the search query is sent to Google Trends, using the given keywords, country, and timeframe.\n",
        "  - **pytrends.interest_over_time()**:\n",
        "    Once the payload is built, this function retrieves the \"interest over time\" data from Google Trends. If successful, the data is returned.\n",
        "  - **except ResponseError**:\n",
        "    This block specifically checks if the error is related to exceeding the rate limit (error code 429). If such an error occurs, a message is printed, and the function waits before retrying. The delay increases with each retry attempt.\n",
        "  - **except Exception**:\n",
        "    Any other errors (not related to rate limits) are caught here, printed, and the process stops.\n",
        "  - **return pd.DataFrame()**:\n",
        "    If all retry attempts fail, or another error occurs, the function returns an empty DataFrame.\n",
        "\n",
        "- **Purpose**:\n",
        "  The main goal of this function is to ensure that data retrieval continues even when Google Trends imposes rate limits (error 429), by retrying the request with increasing wait times. It also handles other errors gracefully, making the overall process of fetching data more reliable, especially when working with frequent or large queries."
      ]
    },
    {
      "cell_type": "markdown",
      "metadata": {},
      "source": [
        "#### 8. Function to fetch data for a country"
      ]
    },
    {
      "cell_type": "code",
      "execution_count": 31,
      "metadata": {
        "trusted": true
      },
      "outputs": [],
      "source": [
        "\n",
        "def fetch_data_for_country(country, keywords_group):\n",
        "    country_data = pd.DataFrame()\n",
        "    for year, timeframe in years.items():\n",
        "        for keywords in keywords_group:\n",
        "            print(f\"Fetching data for {year} with keywords '{keywords}' in {country}...\")\n",
        "            data = fetch_data_with_retry(country, [keywords], year, timeframe)\n",
        "            if not data.empty:\n",
        "                data['Year'] = year\n",
        "                data['Country'] = country\n",
        "                country_data = pd.concat([country_data, data], axis=0)\n",
        "            else:\n",
        "                print(f\"No data available for {year} with keywords '{keywords}' in {country}\")\n",
        "            time.sleep(random.uniform(5, 15))  \n",
        "    return country_data"
      ]
    },
    {
      "cell_type": "markdown",
      "metadata": {},
      "source": [
        "The `fetch_data_for_country` function is designed to retrieve Google Trends data for a specified country and a group of keywords over a series of years. It combines the results into a single DataFrame for easy analysis.\n",
        "\n",
        "### Parameters\n",
        "- **country**: A string representing the country code (e.g., 'SA' for Saudi Arabia) from which to fetch data.\n",
        "- **keywords_group**: A list of groups of keywords (e.g., social media and mental health terms) to search for in Google Trends.\n",
        "\n",
        "### Function Workflow\n",
        "1. **Initialization**:\n",
        "   - `country_data`: An empty DataFrame to hold the collected data for the specified country.\n",
        "\n",
        "2. **Iterating Over Years**:\n",
        "   - The function iterates through the `years` dictionary.\n",
        "   - For each year and its corresponding timeframe, the function processes each group of keywords.\n",
        "\n",
        "3. **Data Fetching**:\n",
        "   - Inside the nested loop, the function prints a message indicating the year, keywords, and country for which data is being fetched.\n",
        "   - It calls the `fetch_data_with_retry` function to retrieve the Google Trends data. If the data is successfully fetched and not empty:\n",
        "     - It adds the current year and country as new columns to the data.\n",
        "     - The new data is concatenated to the `country_data` DataFrame.\n",
        "   - If no data is available for the specified year and keywords, it prints a message to inform the user.\n",
        "\n",
        "4. **Random Sleep**:\n",
        "   - After each data retrieval attempt, the function waits for a random amount of time (between 5 to 15 seconds) to avoid hitting the Google Trends rate limit.\n",
        "\n",
        "5. **Return Value**:\n",
        "   - Finally, the function returns the `country_data` DataFrame containing all the fetched data for the specified country."
      ]
    },
    {
      "cell_type": "markdown",
      "metadata": {},
      "source": [
        "#### 9. Fetch data from all keyword groups"
      ]
    },
    {
      "cell_type": "code",
      "execution_count": 32,
      "metadata": {
        "trusted": true
      },
      "outputs": [
        {
          "name": "stdout",
          "output_type": "stream",
          "text": [
            "Fetching data for 2020 with keywords 'social media' in SA...\n",
            "Fetching data for 2020 with keywords 'mental health' in SA...\n",
            "Fetching data for 2020 with keywords 'depression and social media' in SA...\n",
            "No data available for 2020 with keywords 'depression and social media' in SA\n",
            "Fetching data for 2020 with keywords 'anxiety and social media' in SA...\n",
            "No data available for 2020 with keywords 'anxiety and social media' in SA\n",
            "Fetching data for 2021 with keywords 'social media' in SA...\n",
            "Fetching data for 2021 with keywords 'mental health' in SA...\n",
            "Fetching data for 2021 with keywords 'depression and social media' in SA...\n",
            "Fetching data for 2021 with keywords 'anxiety and social media' in SA...\n",
            "No data available for 2021 with keywords 'anxiety and social media' in SA\n",
            "Fetching data for 2022 with keywords 'social media' in SA...\n",
            "Fetching data for 2022 with keywords 'mental health' in SA...\n",
            "Fetching data for 2022 with keywords 'depression and social media' in SA...\n",
            "Fetching data for 2022 with keywords 'anxiety and social media' in SA...\n",
            "No data available for 2022 with keywords 'anxiety and social media' in SA\n",
            "Fetching data for 2023 with keywords 'social media' in SA...\n",
            "Fetching data for 2023 with keywords 'mental health' in SA...\n",
            "Fetching data for 2023 with keywords 'depression and social media' in SA...\n",
            "No data available for 2023 with keywords 'depression and social media' in SA\n",
            "Fetching data for 2023 with keywords 'anxiety and social media' in SA...\n",
            "No data available for 2023 with keywords 'anxiety and social media' in SA\n",
            "Fetching data for 2024 with keywords 'social media' in SA...\n"
          ]
        },
        {
          "name": "stderr",
          "output_type": "stream",
          "text": [
            "c:\\Users\\sra28\\AppData\\Local\\Programs\\Python\\Python312\\Lib\\site-packages\\pytrends\\request.py:260: FutureWarning: Downcasting object dtype arrays on .fillna, .ffill, .bfill is deprecated and will change in a future version. Call result.infer_objects(copy=False) instead. To opt-in to the future behavior, set `pd.set_option('future.no_silent_downcasting', True)`\n",
            "  df = df.fillna(False)\n"
          ]
        },
        {
          "name": "stdout",
          "output_type": "stream",
          "text": [
            "Fetching data for 2024 with keywords 'mental health' in SA...\n"
          ]
        },
        {
          "name": "stderr",
          "output_type": "stream",
          "text": [
            "c:\\Users\\sra28\\AppData\\Local\\Programs\\Python\\Python312\\Lib\\site-packages\\pytrends\\request.py:260: FutureWarning: Downcasting object dtype arrays on .fillna, .ffill, .bfill is deprecated and will change in a future version. Call result.infer_objects(copy=False) instead. To opt-in to the future behavior, set `pd.set_option('future.no_silent_downcasting', True)`\n",
            "  df = df.fillna(False)\n"
          ]
        },
        {
          "name": "stdout",
          "output_type": "stream",
          "text": [
            "Fetching data for 2024 with keywords 'depression and social media' in SA...\n",
            "No data available for 2024 with keywords 'depression and social media' in SA\n",
            "Fetching data for 2024 with keywords 'anxiety and social media' in SA...\n",
            "No data available for 2024 with keywords 'anxiety and social media' in SA\n",
            "Fetching data for 2020 with keywords 'insomnia and social media' in SA...\n",
            "No data available for 2020 with keywords 'insomnia and social media' in SA\n",
            "Fetching data for 2020 with keywords 'stress and social media' in SA...\n",
            "No data available for 2020 with keywords 'stress and social media' in SA\n",
            "Fetching data for 2020 with keywords 'addiction and social media' in SA...\n",
            "No data available for 2020 with keywords 'addiction and social media' in SA\n",
            "Fetching data for 2021 with keywords 'insomnia and social media' in SA...\n",
            "Fetching data for 2021 with keywords 'stress and social media' in SA...\n",
            "No data available for 2021 with keywords 'stress and social media' in SA\n",
            "Fetching data for 2021 with keywords 'addiction and social media' in SA...\n",
            "No data available for 2021 with keywords 'addiction and social media' in SA\n",
            "Fetching data for 2022 with keywords 'insomnia and social media' in SA...\n",
            "No data available for 2022 with keywords 'insomnia and social media' in SA\n",
            "Fetching data for 2022 with keywords 'stress and social media' in SA...\n",
            "No data available for 2022 with keywords 'stress and social media' in SA\n",
            "Fetching data for 2022 with keywords 'addiction and social media' in SA...\n",
            "No data available for 2022 with keywords 'addiction and social media' in SA\n",
            "Fetching data for 2023 with keywords 'insomnia and social media' in SA...\n",
            "No data available for 2023 with keywords 'insomnia and social media' in SA\n",
            "Fetching data for 2023 with keywords 'stress and social media' in SA...\n",
            "No data available for 2023 with keywords 'stress and social media' in SA\n",
            "Fetching data for 2023 with keywords 'addiction and social media' in SA...\n",
            "Fetching data for 2024 with keywords 'insomnia and social media' in SA...\n",
            "No data available for 2024 with keywords 'insomnia and social media' in SA\n",
            "Fetching data for 2024 with keywords 'stress and social media' in SA...\n",
            "No data available for 2024 with keywords 'stress and social media' in SA\n",
            "Fetching data for 2024 with keywords 'addiction and social media' in SA...\n",
            "No data available for 2024 with keywords 'addiction and social media' in SA\n",
            "Fetching data for 2020 with keywords 'Instagram' in SA...\n",
            "Fetching data for 2020 with keywords 'Twitter' in SA...\n",
            "Fetching data for 2020 with keywords 'Platform X' in SA...\n",
            "No data available for 2020 with keywords 'Platform X' in SA\n",
            "Fetching data for 2020 with keywords 'Facebook' in SA...\n",
            "Fetching data for 2021 with keywords 'Instagram' in SA...\n",
            "Fetching data for 2021 with keywords 'Twitter' in SA...\n",
            "Fetching data for 2021 with keywords 'Platform X' in SA...\n",
            "No data available for 2021 with keywords 'Platform X' in SA\n",
            "Fetching data for 2021 with keywords 'Facebook' in SA...\n",
            "Fetching data for 2022 with keywords 'Instagram' in SA...\n",
            "Fetching data for 2022 with keywords 'Twitter' in SA...\n",
            "Fetching data for 2022 with keywords 'Platform X' in SA...\n",
            "No data available for 2022 with keywords 'Platform X' in SA\n",
            "Fetching data for 2022 with keywords 'Facebook' in SA...\n",
            "Fetching data for 2023 with keywords 'Instagram' in SA...\n",
            "Fetching data for 2023 with keywords 'Twitter' in SA...\n",
            "Fetching data for 2023 with keywords 'Platform X' in SA...\n",
            "Fetching data for 2023 with keywords 'Facebook' in SA...\n",
            "Fetching data for 2024 with keywords 'Instagram' in SA...\n"
          ]
        },
        {
          "name": "stderr",
          "output_type": "stream",
          "text": [
            "c:\\Users\\sra28\\AppData\\Local\\Programs\\Python\\Python312\\Lib\\site-packages\\pytrends\\request.py:260: FutureWarning: Downcasting object dtype arrays on .fillna, .ffill, .bfill is deprecated and will change in a future version. Call result.infer_objects(copy=False) instead. To opt-in to the future behavior, set `pd.set_option('future.no_silent_downcasting', True)`\n",
            "  df = df.fillna(False)\n"
          ]
        },
        {
          "name": "stdout",
          "output_type": "stream",
          "text": [
            "Fetching data for 2024 with keywords 'Twitter' in SA...\n"
          ]
        },
        {
          "name": "stderr",
          "output_type": "stream",
          "text": [
            "c:\\Users\\sra28\\AppData\\Local\\Programs\\Python\\Python312\\Lib\\site-packages\\pytrends\\request.py:260: FutureWarning: Downcasting object dtype arrays on .fillna, .ffill, .bfill is deprecated and will change in a future version. Call result.infer_objects(copy=False) instead. To opt-in to the future behavior, set `pd.set_option('future.no_silent_downcasting', True)`\n",
            "  df = df.fillna(False)\n"
          ]
        },
        {
          "name": "stdout",
          "output_type": "stream",
          "text": [
            "Fetching data for 2024 with keywords 'Platform X' in SA...\n"
          ]
        },
        {
          "name": "stderr",
          "output_type": "stream",
          "text": [
            "c:\\Users\\sra28\\AppData\\Local\\Programs\\Python\\Python312\\Lib\\site-packages\\pytrends\\request.py:260: FutureWarning: Downcasting object dtype arrays on .fillna, .ffill, .bfill is deprecated and will change in a future version. Call result.infer_objects(copy=False) instead. To opt-in to the future behavior, set `pd.set_option('future.no_silent_downcasting', True)`\n",
            "  df = df.fillna(False)\n"
          ]
        },
        {
          "name": "stdout",
          "output_type": "stream",
          "text": [
            "Fetching data for 2024 with keywords 'Facebook' in SA...\n"
          ]
        },
        {
          "name": "stderr",
          "output_type": "stream",
          "text": [
            "c:\\Users\\sra28\\AppData\\Local\\Programs\\Python\\Python312\\Lib\\site-packages\\pytrends\\request.py:260: FutureWarning: Downcasting object dtype arrays on .fillna, .ffill, .bfill is deprecated and will change in a future version. Call result.infer_objects(copy=False) instead. To opt-in to the future behavior, set `pd.set_option('future.no_silent_downcasting', True)`\n",
            "  df = df.fillna(False)\n"
          ]
        },
        {
          "name": "stdout",
          "output_type": "stream",
          "text": [
            "Fetching data for 2020 with keywords 'Snapchat' in SA...\n",
            "Fetching data for 2020 with keywords 'TikTok' in SA...\n",
            "Fetching data for 2020 with keywords 'LinkedIn' in SA...\n",
            "Fetching data for 2020 with keywords 'YouTube' in SA...\n",
            "Fetching data for 2020 with keywords 'WhatsApp' in SA...\n",
            "Fetching data for 2021 with keywords 'Snapchat' in SA...\n",
            "Fetching data for 2021 with keywords 'TikTok' in SA...\n",
            "Fetching data for 2021 with keywords 'LinkedIn' in SA...\n",
            "Fetching data for 2021 with keywords 'YouTube' in SA...\n",
            "Fetching data for 2021 with keywords 'WhatsApp' in SA...\n",
            "Fetching data for 2022 with keywords 'Snapchat' in SA...\n",
            "Fetching data for 2022 with keywords 'TikTok' in SA...\n",
            "Fetching data for 2022 with keywords 'LinkedIn' in SA...\n",
            "Fetching data for 2022 with keywords 'YouTube' in SA...\n",
            "Fetching data for 2022 with keywords 'WhatsApp' in SA...\n",
            "Fetching data for 2023 with keywords 'Snapchat' in SA...\n",
            "Fetching data for 2023 with keywords 'TikTok' in SA...\n",
            "Fetching data for 2023 with keywords 'LinkedIn' in SA...\n",
            "Fetching data for 2023 with keywords 'YouTube' in SA...\n",
            "Fetching data for 2023 with keywords 'WhatsApp' in SA...\n",
            "Fetching data for 2024 with keywords 'Snapchat' in SA...\n"
          ]
        },
        {
          "name": "stderr",
          "output_type": "stream",
          "text": [
            "c:\\Users\\sra28\\AppData\\Local\\Programs\\Python\\Python312\\Lib\\site-packages\\pytrends\\request.py:260: FutureWarning: Downcasting object dtype arrays on .fillna, .ffill, .bfill is deprecated and will change in a future version. Call result.infer_objects(copy=False) instead. To opt-in to the future behavior, set `pd.set_option('future.no_silent_downcasting', True)`\n",
            "  df = df.fillna(False)\n"
          ]
        },
        {
          "name": "stdout",
          "output_type": "stream",
          "text": [
            "Fetching data for 2024 with keywords 'TikTok' in SA...\n"
          ]
        },
        {
          "name": "stderr",
          "output_type": "stream",
          "text": [
            "c:\\Users\\sra28\\AppData\\Local\\Programs\\Python\\Python312\\Lib\\site-packages\\pytrends\\request.py:260: FutureWarning: Downcasting object dtype arrays on .fillna, .ffill, .bfill is deprecated and will change in a future version. Call result.infer_objects(copy=False) instead. To opt-in to the future behavior, set `pd.set_option('future.no_silent_downcasting', True)`\n",
            "  df = df.fillna(False)\n"
          ]
        },
        {
          "name": "stdout",
          "output_type": "stream",
          "text": [
            "Fetching data for 2024 with keywords 'LinkedIn' in SA...\n"
          ]
        },
        {
          "name": "stderr",
          "output_type": "stream",
          "text": [
            "c:\\Users\\sra28\\AppData\\Local\\Programs\\Python\\Python312\\Lib\\site-packages\\pytrends\\request.py:260: FutureWarning: Downcasting object dtype arrays on .fillna, .ffill, .bfill is deprecated and will change in a future version. Call result.infer_objects(copy=False) instead. To opt-in to the future behavior, set `pd.set_option('future.no_silent_downcasting', True)`\n",
            "  df = df.fillna(False)\n"
          ]
        },
        {
          "name": "stdout",
          "output_type": "stream",
          "text": [
            "Fetching data for 2024 with keywords 'YouTube' in SA...\n"
          ]
        },
        {
          "name": "stderr",
          "output_type": "stream",
          "text": [
            "c:\\Users\\sra28\\AppData\\Local\\Programs\\Python\\Python312\\Lib\\site-packages\\pytrends\\request.py:260: FutureWarning: Downcasting object dtype arrays on .fillna, .ffill, .bfill is deprecated and will change in a future version. Call result.infer_objects(copy=False) instead. To opt-in to the future behavior, set `pd.set_option('future.no_silent_downcasting', True)`\n",
            "  df = df.fillna(False)\n"
          ]
        },
        {
          "name": "stdout",
          "output_type": "stream",
          "text": [
            "Fetching data for 2024 with keywords 'WhatsApp' in SA...\n"
          ]
        },
        {
          "name": "stderr",
          "output_type": "stream",
          "text": [
            "c:\\Users\\sra28\\AppData\\Local\\Programs\\Python\\Python312\\Lib\\site-packages\\pytrends\\request.py:260: FutureWarning: Downcasting object dtype arrays on .fillna, .ffill, .bfill is deprecated and will change in a future version. Call result.infer_objects(copy=False) instead. To opt-in to the future behavior, set `pd.set_option('future.no_silent_downcasting', True)`\n",
            "  df = df.fillna(False)\n"
          ]
        }
      ],
      "source": [
        "\n",
        "all_data = pd.DataFrame()\n",
        "all_data = pd.concat([\n",
        "    fetch_data_for_country(countries[0], keywords_group1),\n",
        "    fetch_data_for_country(countries[0], keywords_group2),\n",
        "    fetch_data_for_country(countries[0], keywords_group3),\n",
        "    fetch_data_for_country(countries[0], keywords_group4)\n",
        "], ignore_index=True)\n"
      ]
    },
    {
      "cell_type": "markdown",
      "metadata": {},
      "source": [
        "\n",
        "   - An empty DataFrame named `all_data` is created to hold the combined data from all keyword groups.\n",
        "   - The `pd.concat` function is used to combine the results from four separate calls to the `fetch_data_for_country` function. Each call fetches data for a specific group of keywords defined earlier.\n",
        "   - The `countries[0]` expression accesses the first country in the `countries` list (which contains only 'SA' in this context).\n",
        "   - The `ignore_index=True` parameter ensures that the index of the resulting DataFrame is reset, providing a continuous index across all combined data."
      ]
    },
    {
      "cell_type": "markdown",
      "metadata": {},
      "source": [
        "#### 10. Exporting to CSV\""
      ]
    },
    {
      "cell_type": "code",
      "execution_count": 33,
      "metadata": {
        "trusted": true
      },
      "outputs": [
        {
          "name": "stdout",
          "output_type": "stream",
          "text": [
            "   date  Year Country  Facebook  Instagram  LinkedIn  Platform X  Snapchat  \\\n",
            "0  2020  2020      SA    3947.0     4307.0    4010.0         0.0    4104.0   \n",
            "1  2021  2021      SA    3976.0     4502.0    4026.0         0.0    2059.0   \n",
            "2  2022  2022      SA    4629.0     4031.0    4022.0         0.0    3129.0   \n",
            "3  2023  2023      SA    4574.0     4192.0    4189.0       187.0    3441.0   \n",
            "4  2024  2024      SA    2692.0     3271.0    3233.0       143.0    3483.0   \n",
            "\n",
            "   TikTok  Twitter  WhatsApp  YouTube  addiction and social media  \\\n",
            "0  3096.0   3927.0    4299.0   4312.0                         0.0   \n",
            "1  3187.0   4016.0    3637.0   4616.0                         0.0   \n",
            "2  3709.0   3996.0    4123.0   4571.0                         0.0   \n",
            "3  4181.0   3912.0    4540.0   4634.0                       100.0   \n",
            "4  3062.0   3253.0    3069.0   3729.0                         0.0   \n",
            "\n",
            "   depression and social media  insomnia and social media  isPartial  \\\n",
            "0                          0.0                        0.0          0   \n",
            "1                        100.0                      100.0          0   \n",
            "2                        100.0                        0.0          0   \n",
            "3                          0.0                        0.0          0   \n",
            "4                          0.0                        0.0         11   \n",
            "\n",
            "   mental health  social media  \n",
            "0         2014.0        4123.0  \n",
            "1         2337.0        3059.0  \n",
            "2         2075.0        4187.0  \n",
            "3         2126.0        4234.0  \n",
            "4         2506.0        3338.0  \n"
          ]
        }
      ],
      "source": [
        "\n",
        "if not all_data.empty:\n",
        "    yearly_data = all_data.groupby(['Year', 'Country']).sum().reset_index()\n",
        "    yearly_data['date'] = yearly_data['Year']\n",
        "    selected_columns = ['date', 'Year', 'Country'] + all_data.columns.difference(['Year', 'Country']).tolist()\n",
        "    yearly_data = yearly_data[selected_columns]\n",
        "    print(yearly_data.head())\n",
        "\n",
        "    yearly_data.to_csv(\"APIGoogleTrends_data_SA.csv\", index=False)\n",
        "else:\n",
        "    print(\"No data was collected.\")"
      ]
    },
    {
      "cell_type": "markdown",
      "metadata": {},
      "source": [
        "## - Preprocessing:"
      ]
    },
    {
      "cell_type": "markdown",
      "metadata": {},
      "source": [
        "#### Merge and reorder columns"
      ]
    },
    {
      "cell_type": "code",
      "execution_count": 43,
      "metadata": {},
      "outputs": [
        {
          "name": "stdout",
          "output_type": "stream",
          "text": [
            "   date  Year Country  mental health  social media  Facebook  Instagram  \\\n",
            "0  2020  2020      SA         2014.0        4123.0    3947.0     4307.0   \n",
            "1  2021  2021      SA         2337.0        3059.0    3976.0     4502.0   \n",
            "2  2022  2022      SA         2075.0        4187.0    4629.0     4031.0   \n",
            "3  2023  2023      SA         2126.0        4234.0    4574.0     4192.0   \n",
            "4  2024  2024      SA         2506.0        3338.0    2692.0     3271.0   \n",
            "\n",
            "   LinkedIn  Snapchat  TikTok  WhatsApp  YouTube  Twitter(X)  \\\n",
            "0    4010.0    4104.0  3096.0    4299.0   4312.0      3927.0   \n",
            "1    4026.0    2059.0  3187.0    3637.0   4616.0      4016.0   \n",
            "2    4022.0    3129.0  3709.0    4123.0   4571.0      3996.0   \n",
            "3    4189.0    3441.0  4181.0    4540.0   4634.0      4099.0   \n",
            "4    3233.0    3483.0  3062.0    3069.0   3729.0      3396.0   \n",
            "\n",
            "   addiction and social media  depression and social media  \\\n",
            "0                         0.0                          0.0   \n",
            "1                         0.0                        100.0   \n",
            "2                         0.0                        100.0   \n",
            "3                       100.0                          0.0   \n",
            "4                         0.0                          0.0   \n",
            "\n",
            "   insomnia and social media  isPartial  \n",
            "0                        0.0          0  \n",
            "1                      100.0          0  \n",
            "2                        0.0          0  \n",
            "3                        0.0          0  \n",
            "4                        0.0         11  \n"
          ]
        }
      ],
      "source": [
        "\n",
        "df = pd.read_csv('APIGoogleTrends_data_SA.csv')\n",
        "\n",
        "df['Twitter(X)'] = df['Twitter'].fillna(0) + df['Platform X'].fillna(0)\n",
        "\n",
        "df.drop(columns=['Twitter', 'Platform X'], inplace=True)\n",
        "\n",
        "new_order = [\n",
        "    'date', \n",
        "    'Year', \n",
        "    'Country',\n",
        "    'mental health', \n",
        "    'social media',  \n",
        "    'Facebook', \n",
        "    'Instagram', \n",
        "    'LinkedIn', \n",
        "    'Snapchat', \n",
        "    'TikTok', \n",
        "    'WhatsApp', \n",
        "    'YouTube',\n",
        "    'Twitter(X)',\n",
        "    'addiction and social media', \n",
        "    'depression and social media', \n",
        "    'insomnia and social media', \n",
        "    'isPartial'\n",
        "]\n",
        "\n",
        "df = df[new_order]\n",
        "\n",
        "df.to_csv('APIGoogleTrends_data_SA(1).csv', index=False)\n",
        "\n",
        "print(df)\n"
      ]
    },
    {
      "cell_type": "markdown",
      "metadata": {},
      "source": [
        "## - Data Cleaning:"
      ]
    },
    {
      "cell_type": "markdown",
      "metadata": {},
      "source": [
        "#### Checking for Missing Values"
      ]
    },
    {
      "cell_type": "code",
      "execution_count": 42,
      "metadata": {
        "trusted": true
      },
      "outputs": [
        {
          "name": "stdout",
          "output_type": "stream",
          "text": [
            "Number of missing values ​​in each column:\n",
            "mental health                  0\n",
            "social media                   0\n",
            "date                           0\n",
            "Year                           0\n",
            "Country                        0\n",
            "Facebook                       0\n",
            "Instagram                      0\n",
            "LinkedIn                       0\n",
            "Snapchat                       0\n",
            "TikTok                         0\n",
            "WhatsApp                       0\n",
            "YouTube                        0\n",
            "Twitter(X)                     0\n",
            "addiction and social media     0\n",
            "depression and social media    0\n",
            "insomnia and social media      0\n",
            "isPartial                      0\n",
            "dtype: int64\n"
          ]
        }
      ],
      "source": [
        "\n",
        "file_path = \"APIGoogleTrends_data_SA(1).csv\"\n",
        "data = pd.read_csv(file_path)\n",
        "\n",
        "missing_values = data.isnull().sum()\n",
        "\n",
        "print(\"Number of missing values ​​in each column:\")\n",
        "print(missing_values)\n",
        "\n"
      ]
    },
    {
      "cell_type": "markdown",
      "metadata": {},
      "source": [
        "The results indicate that there are no missing values in any of the columns, including 'social media', 'mental health', and various social media platforms (Instagram, Twitter, Facebook, etc.). This is due to the earlier code implementation that ensures data integrity by managing retries and handling errors when fetching data. The absence of missing values confirms that the data collection process successfully gathered complete datasets without interruptions. The strategy of handling errors, including rate limits, helped avoid missing data, ensuring that each data entry is fully populated."
      ]
    },
    {
      "cell_type": "markdown",
      "metadata": {},
      "source": [
        "#### Checking for Outliers"
      ]
    },
    {
      "cell_type": "code",
      "execution_count": 39,
      "metadata": {},
      "outputs": [
        {
          "name": "stdout",
          "output_type": "stream",
          "text": [
            "\n",
            "Outliers in each column:\n",
            "Column 'date' has 0 outlier(s).\n",
            "Column 'Year' has 0 outlier(s).\n",
            "Column 'Facebook' has 1 outlier(s).\n",
            "Outlier values in column 'Facebook':\n",
            "[2692.]\n",
            "Column 'Instagram' has 1 outlier(s).\n",
            "Outlier values in column 'Instagram':\n",
            "[3271.]\n",
            "Column 'LinkedIn' has 2 outlier(s).\n",
            "Outlier values in column 'LinkedIn':\n",
            "[4189. 3233.]\n",
            "Column 'Snapchat' has 2 outlier(s).\n",
            "Outlier values in column 'Snapchat':\n",
            "[4104. 2059.]\n",
            "Column 'TikTok' has 0 outlier(s).\n",
            "Column 'WhatsApp' has 0 outlier(s).\n",
            "Column 'YouTube' has 1 outlier(s).\n",
            "Outlier values in column 'YouTube':\n",
            "[3729.]\n",
            "Column 'addiction and social media' has 1 outlier(s).\n",
            "Outlier values in column 'addiction and social media':\n",
            "[100.]\n",
            "Column 'depression and social media' has 0 outlier(s).\n",
            "Column 'insomnia and social media' has 1 outlier(s).\n",
            "Outlier values in column 'insomnia and social media':\n",
            "[100.]\n",
            "Column 'isPartial' has 1 outlier(s).\n",
            "Outlier values in column 'isPartial':\n",
            "[11]\n",
            "Column 'mental health' has 0 outlier(s).\n",
            "Column 'social media' has 0 outlier(s).\n",
            "Column 'Twitter(X)' has 1 outlier(s).\n",
            "Outlier values in column 'Twitter(X)':\n",
            "[3396.]\n"
          ]
        }
      ],
      "source": [
        "outliers = {}\n",
        "\n",
        "for column in data.select_dtypes(include=['float64', 'int64']).columns:\n",
        "    Q1 = data[column].quantile(0.25)\n",
        "    Q3 = data[column].quantile(0.75)\n",
        "    IQR = Q3 - Q1\n",
        "    lower_bound = Q1 - 1.5 * IQR\n",
        "    upper_bound = Q3 + 1.5 * IQR\n",
        "\n",
        "    outlier_values = data[(data[column] < lower_bound) | (data[column] > upper_bound)]\n",
        "    outliers[column] = outlier_values\n",
        "\n",
        "print(\"\\nOutliers in each column:\")\n",
        "for column, outlier_values in outliers.items():\n",
        "    outlier_count = outlier_values.shape[0]  \n",
        "    print(f\"Column '{column}' has {outlier_count} outlier(s).\")\n",
        "\n",
        "    if outlier_count > 0:\n",
        "        print(f\"Outlier values in column '{column}':\")\n",
        "        print(outlier_values[column].values)  \n",
        "\n"
      ]
    },
    {
      "cell_type": "markdown",
      "metadata": {},
      "source": [
        "- **Statement on Outlier Analysis and Recommendations**:\n",
        "\n",
        "In the analysis of the columns related to mental health and social media, we observed that the long phrases such as \"insomnia and social media,\" \"stress and social media,\" \"addiction and social media,\" \"depression and social media,\" and \"anxiety and social media\" did not yield valid results during the data requests.\n",
        "Google Trends did not recognize these keywords accurately, as reflected by the zero search interest across most years, which is an illogical outcome. Therefore, we recommend deleting these columns from our dataset.\n",
        "\n",
        "On the other hand, the presence of outliers in the remaining columns is significant as it indicates variations in search interest, whether increasing or decreasing. We suggest retaining these columns as they provide valuable insights into the fluctuations of public concern regarding social media and mental health.\n",
        "\n"
      ]
    },
    {
      "cell_type": "markdown",
      "metadata": {},
      "source": [
        "## - Operations and Decisions:\n",
        "\n",
        "### Collection Methods:\n",
        "We employed the **pytrends** library to systematically retrieve data from Google Trends. This method enabled us to capture public interest trends related to social media and mental health across Saudi Arabia. Specifically, we used keyword searches within predefined timeframes, allowing us to gather region-specific data effectively.\n",
        "\n",
        "### Decisions Made:\n",
        "\n",
        "- **Keyword Grouping:**  \n",
        "  To optimize data retrieval, we divided the keywords into **four distinct groups**. This was necessary to ensure the API could handle the requests efficiently and avoid errors.\n",
        "\n",
        "- **Yearly Timeframes:**  \n",
        "  Since Google Trends only allows data retrieval based on specific date ranges (down to months and days), we manually defined the yearly ranges (e.g., '2020-01-01 to 2020-12-31') to capture trends over entire years. This allowed us to compare year-on-year trends for each keyword.\n",
        "\n",
        "- **Data Merging and Cleanup:**\n",
        "  - **Combining Columns:**  \n",
        "    We merged the Twitter and Platform X columns into a single column named Twitter(X) since they represent the same platform. This step was crucial to avoid redundancy and streamline our analysis.\n",
        "\n",
        "  - **Handling Outliers:**  \n",
        "    During data cleaning, we identified outliers in several columns, which indicated significant deviations in search interest. We decided to retain these outliers in our dataset as they provided insights into unusual spikes or drops in interest related to social media and mental health. Furthermore, we decided to initially remove the keywords with long phrases. This decision was made because Google Trends struggled to process these keywords accurately, leading to zero search interest for most years. This action aimed to improve the overall quality and reliability of our data analysis.\n",
        "\n",
        "  - **Language Restriction:**  \n",
        "    Due to Google Trends' inability to effectively recognize Arabic keywords, we decided to limit our analysis to English keywords only. This decision ensured that we could gather more accurate and reliable data on public interest in social media and mental health topics.\n",
        "\n",
        "- **Column Reordering:**  \n",
        "  For better organization and clarity, we reordered the columns in our final dataset to prioritize key variables.\n",
        "\n",
        "**Conclusion:**  \n",
        "The methodology and decisions outlined here provided a structured approach to analyzing Google Trends data, ensuring both accuracy and relevance in capturing public interest in social media and mental health in the selected countries. This process allowed us to derive meaningful insights while navigating the limitations of the Google Trends API."
      ]
    },
    {
      "cell_type": "markdown",
      "metadata": {},
      "source": [
        "## - Challenges:\n",
        "- **Accessing Google Responses**:<br>\n",
        "A significant challenge we encountered was managing multiple requests to the Google Trends API without exceeding the rate limits. To avoid server overload and ensure consistent data retrieval, we implemented a time.sleep(random.uniform(5, 15)) command to introduce a delay between each request. This step was crucial for maintaining stable API communication and avoiding request failures due to rate limits.\n",
        "\n",
        "- **Timeframe Specification**:<br>\n",
        "The Google Trends API does not allow direct yearly data retrieval and instead only supports queries based on months and days. To overcome this, we manually defined exact date ranges for each year (e.g., January 1st to December 31st). This allowed us to gather data for entire years, ensuring that the data was structured according to our yearly analysis needs. The process required aggregating monthly data into yearly summaries to align with our research objectives.\n",
        "\n",
        "- **Keyword Grouping Limitations**:<br>\n",
        "The API enforces a limit on the number of keywords that can be queried at once. This limitation led us to divide the keywords into two distinct groups, with each group containing relevant social media and mental health terms. Although this increased the complexity of the data retrieval process, we combined the results during post-processing to ensure all keywords were included in the analysis. This required careful data management and merging.\n",
        "\n",
        "- **Processing Long Phrase Keywords**:<br>\n",
        "   **Search Difficulties**: There were keywords with long phrases that Google Trends could not handle accurately, as most years returned zero results. This issue led to an initial decision to remove those keywords from the analysis and focus instead on analyzing shorter, more relevant phrases.\n",
        "\n",
        "- **Difficulty with Arabic Keywords**:<br>\n",
        "**Language Recognition Issues**: Google Trends struggled to recognize and process Arabic keywords effectively. As a result, the analysis had to rely solely on English keywords.\n",
        "\n",
        "**Conclusion:**<br>\n",
        "In conclusion, our analysis of Google Trends data encountered several challenges, including managing API request limits, specifying timeframes, grouping keywords, and dealing with language recognition issues. By adjusting request intervals, defining precise date ranges, and focusing on English keywords, we maintained an effective data collection process. These challenges shaped our approach and enabled us to derive valuable insights into public interest in social media and mental health within the targeted regions."
      ]
    }
  ],
  "metadata": {
    "kernelspec": {
      "display_name": "Python 3",
      "language": "python",
      "name": "python3"
    },
    "language_info": {
      "codemirror_mode": {
        "name": "ipython",
        "version": 3
      },
      "file_extension": ".py",
      "mimetype": "text/x-python",
      "name": "python",
      "nbconvert_exporter": "python",
      "pygments_lexer": "ipython3",
      "version": "3.12.5"
    }
  },
  "nbformat": 4,
  "nbformat_minor": 4
}
