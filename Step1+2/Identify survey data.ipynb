{
 "cells": [
  {
   "cell_type": "markdown",
   "metadata": {},
   "source": [
    "## - Introduction & Explanation"
   ]
  },
  {
   "cell_type": "markdown",
   "metadata": {},
   "source": [
    "The survey serves as a primary data source designed to investigate the impact of social media on mental health .The survey contains valuable information on various aspects of social media usage, including demographics such as age, gender, location, educational level, marital and employment status. It also includes detailed questions regarding the platforms respondents use, the time spent on social media, and the emotional and mental effects of their usage. The survey explores key areas such as anxiety, focus, and productivity, and investigates coping mechanisms like app restrictions and limiting device usage, and it aims to capture real-world experiences and perceptions related to social media usage .\n",
    "\n",
    "The survey questions were selected with the assistance of specialists to ensure that the collected data would accurately and clearly serve the research goals and it was published in Arabic and later translated into English, to obtain the largest number of responses ."
   ]
  },
  {
   "cell_type": "markdown",
   "metadata": {},
   "source": [
    "## - Motivation and Goals"
   ]
  },
  {
   "cell_type": "markdown",
   "metadata": {},
   "source": [
    "The motivation behind choosing a survey stems from its effectiveness in gathering diverse and personal insights from individuals across various demographics. \n",
    "\n",
    "The goals include:\n",
    "\n",
    "* Understanding social media usage: To explore how long people  spend on social media daily, and which apps are most popular.\n",
    "* Analyzing mental and emotional effects: To examine how social media impacts focus, stress, anxiety, and interactions with others.\n",
    "* Increasing data richness: One of the reasons for selecting a survey is to gather more data, enrich knowledge, and learn how to manage and process survey data effectively.\n",
    "* Comparative analysis: The research aims to compare the survey data collected from different regions of  Saudi Arabia with secondary data ( Kaggle dataset) to understand the differences in social media's impact on mental health between Saudi Arabia and another foreign country.\n",
    "* Reliable, realistic insights: By using both primary and secondary data, the study strives for accurate, reliable, and realistic results."
   ]
  },
  {
   "cell_type": "markdown",
   "metadata": {},
   "source": [
    "| Column Name        | Description                                                             | Data Type     | Possible Values                      |\n",
    "|:-------------------|:------------------------------------------------------------------------|:-------------:|:-------------------------------------:|\n",
    "| `the age`             | The age of the respondent (in  a range of a years).                     | Integer range       |  (e.g.,13-17, 18-24) |\n",
    "| `Gender`             | The gender of the respondent.                                   | Categorical      |  (e.g., Male, Female)   |\n",
    "| `Area`          | The geographic area or city where the respondent resides                 | Categorical   | (e.g., Riyadh, Jeddah). |\n",
    "| `Current educational level`     | The respondent's current level of education.      | Categorical      | (e.g., High school or equivalent, Bachelor's degree).             |\n",
    "| `marital status`    | The respondent's marital status .    | Categorical  |              |\n",
    "| `Employment status`        | The employment status of the respondent           | Categorical       | (e.g., Student, Full time employee, Not employed).         |\n",
    "| `Do you use social media applications?`          | Whether the respondent uses social media applications . | Binary (Yes, No)     | (Yes/No)             |\n",
    "| `What social media platforms do you use?`         | The social media platforms the respondent uses .| Categorical/List      | (e.g., Instagram, Twitter)             |\n",
    "| `What app do you use the most?`         | The social media application the respondent uses the most .           | Categorical      | (e.g., TikTok, Instagram).             |\n",
    "| `How many hours do you spend on social media platforms daily?`           | he number of hours the respondent spends on social media each day .             | Categorical       | (e.g., Less than 1 hour, 12 hours or more)             |\n",
    "| `Do you feel anxious or stressed after reading negative comments on your posts?`         | The respondent's frequency of feeling anxious or stressed after reading negative comments .           | Categorical      | (e.g., Rarely, sometimes)            |\n",
    "| `Are you worried about missing out on important information or events when you're not using social media?`          | Whether the respondent feels concerned about missing out on important updates from social media.           | Categorical      | (e.g., Rarely, sometimes)             |\n",
    "| `Do you feel that using social media has affected your ability to focus and accomplish daily tasks?`         | Whether the respondent feels that social media has affected their ability to focus and accomplish daily tasks .           | Categorical       |       (e.g., Yes, a lot)       |\n",
    "| `Do you think that consuming quick content has affected your patience and ability to deal with long tasks?`             | The respondent's opinion on whether quick content (e.g., stories, reels) affects their attention span.                                   | Categorical       | (e.g., Yes, a lot)  |\n",
    "| `Do you use social media right before going to sleep?`             | Whether the respondent uses social media right before going to bed .                                   | Categorical       | (e.g., Yes, always)  |\n",
    "| `Do you have difficulty sleeping because of thinking about what you saw on social media platforms?`             | Whether the respondent experiences sleep difficulties due to social media use.                                   | Categorical       | (e.g., Yes, always)    |\n",
    "| `Does the number of likes or comments you get on your posts affect you?`             | Whether the number of likes or comments the respondent receives impacts their self-worth.                                   | Categorical      | (e.g., Rarely, sometimes)   |\n",
    "| `Have you changed your opinion or feeling based on the reactions of others on social media platforms?`      | does the respondent has changed their opinion based the reactions of others on social media platforms media                                  | Categorical      | (e.g., Rarely, sometimes)   |\n",
    "| `Do you prefer interacting with friends or family online rather than face-to-face?`             | Whether the respondent prefers interacting with people online over in-person interactions.                | Categorical      | (e.g., Rarely, sometimes)  |\n",
    "| `How often do you find yourself using social media for longer than you planned?`             | How frequently the respondent uses social media for longer than you planned                 |Categorical      | (e.g., Rarely, sometimes)   |\n",
    "| `How do you feel when you compare your life to the lives of others on social media?`             | The respondent's feelings when comparing their life to others on social media             | Text       |  (e.g., Feeling natural,Inspiration,Envy)   |\n",
    "| `What methods, if any, do you use to limit your social media access?`             | The methods the respondent uses to control or limit their social media use .         | Text        | (e.g., Time limits, None)  |\n"
   ]
  }
 ],
 "metadata": {
  "language_info": {
   "name": "python"
  }
 },
 "nbformat": 4,
 "nbformat_minor": 2
}
